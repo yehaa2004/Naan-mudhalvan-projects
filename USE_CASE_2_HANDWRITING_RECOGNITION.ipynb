{
  "metadata": {
    "kernelspec": {
      "language": "python",
      "display_name": "Python 3",
      "name": "python3"
    },
    "language_info": {
      "name": "python",
      "version": "3.7.6",
      "mimetype": "text/x-python",
      "codemirror_mode": {
        "name": "ipython",
        "version": 3
      },
      "pygments_lexer": "ipython3",
      "nbconvert_exporter": "python",
      "file_extension": ".py"
    },
    "kaggle": {
      "accelerator": "gpu",
      "dataSources": [
        {
          "sourceId": 101598,
          "sourceType": "datasetVersion",
          "datasetId": 53376
        },
        {
          "sourceId": 1400106,
          "sourceType": "datasetVersion",
          "datasetId": 818027
        }
      ],
      "dockerImageVersionId": 30043,
      "isInternetEnabled": true,
      "language": "python",
      "sourceType": "notebook",
      "isGpuEnabled": true
    },
    "colab": {
      "provenance": [],
      "include_colab_link": true
    }
  },
  "nbformat_minor": 0,
  "nbformat": 4,
  "cells": [
    {
      "cell_type": "markdown",
      "metadata": {
        "id": "view-in-github",
        "colab_type": "text"
      },
      "source": [
        "<a href=\"https://colab.research.google.com/github/yehaa2004/Naan-mudhalvan-projects/blob/main/USE_CASE_2_HANDWRITING_RECOGNITION.ipynb\" target=\"_parent\"><img src=\"https://colab.research.google.com/assets/colab-badge.svg\" alt=\"Open In Colab\"/></a>"
      ]
    },
    {
      "source": [
        "\n",
        "# IMPORTANT: RUN THIS CELL IN ORDER TO IMPORT YOUR KAGGLE DATA SOURCES\n",
        "# TO THE CORRECT LOCATION (/kaggle/input) IN YOUR NOTEBOOK,\n",
        "# THEN FEEL FREE TO DELETE THIS CELL.\n",
        "# NOTE: THIS NOTEBOOK ENVIRONMENT DIFFERS FROM KAGGLE'S PYTHON\n",
        "# ENVIRONMENT SO THERE MAY BE MISSING LIBRARIES USED BY YOUR\n",
        "# NOTEBOOK.\n",
        "\n",
        "import os\n",
        "import sys\n",
        "from tempfile import NamedTemporaryFile\n",
        "from urllib.request import urlopen\n",
        "from urllib.parse import unquote, urlparse\n",
        "from urllib.error import HTTPError\n",
        "from zipfile import ZipFile\n",
        "import tarfile\n",
        "import shutil\n",
        "\n",
        "CHUNK_SIZE = 40960\n",
        "DATA_SOURCE_MAPPING = 'handwritten-characters:https%3A%2F%2Fstorage.googleapis.com%2Fkaggle-data-sets%2F53376%2F101598%2Fbundle%2Farchive.zip%3FX-Goog-Algorithm%3DGOOG4-RSA-SHA256%26X-Goog-Credential%3Dgcp-kaggle-com%2540kaggle-161607.iam.gserviceaccount.com%252F20240428%252Fauto%252Fstorage%252Fgoog4_request%26X-Goog-Date%3D20240428T044206Z%26X-Goog-Expires%3D259200%26X-Goog-SignedHeaders%3Dhost%26X-Goog-Signature%3D11a3e8ea9c823cf483e7229178295ce569188f3479303579961089252bf0bc8476842f3bdae05c0a5695c86511ca4047c1d426dc03d5e099449abaddccfe2d9e76d8e97f90fbe712c874a044e47e4e49e862d100c7ed0a066bfd858b215021a00f6eebd8fae0192a31724ee0ea436e7e7090a8cf33fe30cbfe31dda5f69364c37b3a837fccec0fb8129aa67559d7f730abef8d4c5b0f29aa948fbc30fdb55f4e48982ce865387fb22b03eb03459c0bc018f88d198e77f2ff37e69e4844ebbf858def8c8fb8a3bd639d06bd81d94fcee9fd640496388e999e547c00d01e95e85b4e3afd7ea4725c3f60f5644bef27eca0e1e978a2b11f1f79e47b2e7144a5fcf1,handwriting-recognition:https%3A%2F%2Fstorage.googleapis.com%2Fkaggle-data-sets%2F818027%2F1400106%2Fbundle%2Farchive.zip%3FX-Goog-Algorithm%3DGOOG4-RSA-SHA256%26X-Goog-Credential%3Dgcp-kaggle-com%2540kaggle-161607.iam.gserviceaccount.com%252F20240428%252Fauto%252Fstorage%252Fgoog4_request%26X-Goog-Date%3D20240428T044206Z%26X-Goog-Expires%3D259200%26X-Goog-SignedHeaders%3Dhost%26X-Goog-Signature%3D968daf97119c7ab713090f630bde44c77d473d24f133cf20f0d635fc9c3f1fc7c2a104416f02e629e4c5da244cd1fde8735b8c38380a4c9ba16f22bc39ec1027834d12e89d6424936222dbf1e6d82b51fce4b0504be213473352532c958beac6707468936eeec10c9b6d32a9a04b14457c1790052f298e32721218a806fc521dc02bbfe56b15be5583c86fa5f2793f0dee9a24c7e8651a50844310a1039d73b0f7a8ab3827223cc83be581640b80eb95a43f5c40a0ced71fe0cc5b6ed19e2d86004587c51f24b0542cfb39b0ca73a4acf6b4dcca3bcf8795d35ee56ca02a6443dd25d289d492bfebde4416604f37ba2a6e7a72066fa206165f2eaebfffea404d'\n",
        "\n",
        "KAGGLE_INPUT_PATH='/kaggle/input'\n",
        "KAGGLE_WORKING_PATH='/kaggle/working'\n",
        "KAGGLE_SYMLINK='kaggle'\n",
        "\n",
        "!umount /kaggle/input/ 2> /dev/null\n",
        "shutil.rmtree('/kaggle/input', ignore_errors=True)\n",
        "os.makedirs(KAGGLE_INPUT_PATH, 0o777, exist_ok=True)\n",
        "os.makedirs(KAGGLE_WORKING_PATH, 0o777, exist_ok=True)\n",
        "\n",
        "try:\n",
        "  os.symlink(KAGGLE_INPUT_PATH, os.path.join(\"..\", 'input'), target_is_directory=True)\n",
        "except FileExistsError:\n",
        "  pass\n",
        "try:\n",
        "  os.symlink(KAGGLE_WORKING_PATH, os.path.join(\"..\", 'working'), target_is_directory=True)\n",
        "except FileExistsError:\n",
        "  pass\n",
        "\n",
        "for data_source_mapping in DATA_SOURCE_MAPPING.split(','):\n",
        "    directory, download_url_encoded = data_source_mapping.split(':')\n",
        "    download_url = unquote(download_url_encoded)\n",
        "    filename = urlparse(download_url).path\n",
        "    destination_path = os.path.join(KAGGLE_INPUT_PATH, directory)\n",
        "    try:\n",
        "        with urlopen(download_url) as fileres, NamedTemporaryFile() as tfile:\n",
        "            total_length = fileres.headers['content-length']\n",
        "            print(f'Downloading {directory}, {total_length} bytes compressed')\n",
        "            dl = 0\n",
        "            data = fileres.read(CHUNK_SIZE)\n",
        "            while len(data) > 0:\n",
        "                dl += len(data)\n",
        "                tfile.write(data)\n",
        "                done = int(50 * dl / int(total_length))\n",
        "                sys.stdout.write(f\"\\r[{'=' * done}{' ' * (50-done)}] {dl} bytes downloaded\")\n",
        "                sys.stdout.flush()\n",
        "                data = fileres.read(CHUNK_SIZE)\n",
        "            if filename.endswith('.zip'):\n",
        "              with ZipFile(tfile) as zfile:\n",
        "                zfile.extractall(destination_path)\n",
        "            else:\n",
        "              with tarfile.open(tfile.name) as tarfile:\n",
        "                tarfile.extractall(destination_path)\n",
        "            print(f'\\nDownloaded and uncompressed: {directory}')\n",
        "    except HTTPError as e:\n",
        "        print(f'Failed to load (likely expired) {download_url} to path {destination_path}')\n",
        "        continue\n",
        "    except OSError as e:\n",
        "        print(f'Failed to load {download_url} to path {destination_path}')\n",
        "        continue\n",
        "\n",
        "print('Data source import complete.')\n"
      ],
      "metadata": {
        "id": "lMAv3_PpAtcA",
        "outputId": "a52d392b-a5ab-415d-ba14-2cbf2c0050ed",
        "colab": {
          "base_uri": "https://localhost:8080/"
        }
      },
      "cell_type": "code",
      "outputs": [
        {
          "output_type": "stream",
          "name": "stdout",
          "text": [
            "Downloading handwritten-characters, 1740501298 bytes compressed\n",
            "[==================================================] 1740501298 bytes downloaded\n",
            "Downloaded and uncompressed: handwritten-characters\n",
            "Downloading handwriting-recognition, 1353071625 bytes compressed\n",
            "[==================================================] 1353071625 bytes downloaded\n",
            "Downloaded and uncompressed: handwriting-recognition\n",
            "Data source import complete.\n"
          ]
        }
      ],
      "execution_count": 1
    },
    {
      "cell_type": "code",
      "source": [
        "from tensorflow.keras.models import load_model"
      ],
      "metadata": {
        "execution": {
          "iopub.status.busy": "2024-02-26T11:09:38.039448Z",
          "iopub.execute_input": "2024-02-26T11:09:38.039821Z",
          "iopub.status.idle": "2024-02-26T11:09:42.892302Z",
          "shell.execute_reply.started": "2024-02-26T11:09:38.039782Z",
          "shell.execute_reply": "2024-02-26T11:09:42.89133Z"
        },
        "trusted": true,
        "id": "0hPd58yyAtcD"
      },
      "execution_count": 2,
      "outputs": []
    },
    {
      "cell_type": "markdown",
      "source": [
        "# *Offline Handwritten Text Recognition*\n",
        "\n",
        "### The purpose of this notebook is to give a brief idea and a basic approach for offline handwritten text recognition by using segmentation and classification."
      ],
      "metadata": {
        "id": "w2B8QpxvAtcD"
      }
    },
    {
      "cell_type": "markdown",
      "source": [
        "## What is Offline Handwritten Text Recognition?\n",
        "Offline handwriting recognition involves the automatic conversion of text in an image into letter codes that are usable within computer and text-processing applications. In simple terms, it is the text extraction from your handwritten notebooks/pages. Why called offline? The point being that there is an online text recognition system, which is referred for text that is digitally generated by using tools like stylus, apple pencil, etc."
      ],
      "metadata": {
        "id": "AzYqoOaHAtcH"
      }
    },
    {
      "cell_type": "markdown",
      "source": [
        "## Approach\n",
        "\n",
        "* **Step1** :  Build a digit(0-9) + A-Z characters classifier using a CNN architecture.\n",
        "* **Step2** :  Apply character segmentation for the handwritten word image.\n",
        "* **Step3** :  Classify each segmented letter and then get the final word in the image."
      ],
      "metadata": {
        "id": "VtFAb-xIAtcI"
      }
    },
    {
      "cell_type": "code",
      "source": [
        "!pip install imutils"
      ],
      "metadata": {
        "execution": {
          "iopub.status.busy": "2024-02-15T21:05:09.055034Z",
          "iopub.execute_input": "2024-02-15T21:05:09.055328Z",
          "iopub.status.idle": "2024-02-15T21:05:19.509834Z",
          "shell.execute_reply.started": "2024-02-15T21:05:09.055301Z",
          "shell.execute_reply": "2024-02-15T21:05:19.508735Z"
        },
        "trusted": true,
        "id": "K8k7HblrAtcI",
        "outputId": "376f77f9-1969-45b5-c630-48cfa44e1ff0",
        "colab": {
          "base_uri": "https://localhost:8080/"
        }
      },
      "execution_count": 4,
      "outputs": [
        {
          "output_type": "stream",
          "name": "stdout",
          "text": [
            "Requirement already satisfied: imutils in /usr/local/lib/python3.10/dist-packages (0.5.4)\n"
          ]
        }
      ]
    },
    {
      "cell_type": "code",
      "source": [
        "!pip install keras"
      ],
      "metadata": {
        "colab": {
          "base_uri": "https://localhost:8080/"
        },
        "id": "9bfErgPqIGhp",
        "outputId": "9dfc06f7-bc84-4260-c9ed-de9f69ab8560"
      },
      "execution_count": 5,
      "outputs": [
        {
          "output_type": "stream",
          "name": "stdout",
          "text": [
            "Requirement already satisfied: keras in /usr/local/lib/python3.10/dist-packages (2.15.0)\n"
          ]
        }
      ]
    },
    {
      "cell_type": "code",
      "source": [
        "from keras.utils import to_categorical"
      ],
      "metadata": {
        "id": "Vl3lpfKUIYWW"
      },
      "execution_count": 6,
      "outputs": []
    },
    {
      "cell_type": "code",
      "source": [
        "import numpy as np\n",
        "import pandas as pd\n",
        "from keras.preprocessing.image import ImageDataGenerator\n",
        "import os\n",
        "import random\n",
        "import cv2\n",
        "import imutils\n",
        "import random\n",
        "import matplotlib.pyplot as plt\n",
        "import seaborn as sns\n",
        "from sklearn.preprocessing import LabelBinarizer\n",
        "from keras.utils import to_categorical\n",
        "from keras.models import Sequential\n",
        "from keras import optimizers\n",
        "from sklearn.preprocessing import LabelBinarizer\n",
        "from keras import backend as K\n",
        "from keras.layers import Dense, Activation, Flatten, Dense,MaxPooling2D, Dropout\n",
        "from keras.layers import Conv2D, MaxPooling2D, BatchNormalization"
      ],
      "metadata": {
        "id": "0j8sIeKSIvfV"
      },
      "execution_count": 10,
      "outputs": []
    },
    {
      "cell_type": "code",
      "source": [
        "dir = \"../input/handwritten-characters/Train/\"\n",
        "train_data = []\n",
        "img_size = 32\n",
        "non_chars = [\"#\",\"$\",\"&\",\"@\"]\n",
        "for i in os.listdir(dir):\n",
        "    if i in non_chars:\n",
        "        continue\n",
        "    count = 0\n",
        "    sub_directory = os.path.join(dir,i)\n",
        "    for j in os.listdir(sub_directory):\n",
        "        count+=1\n",
        "        if count > 4000:\n",
        "            break\n",
        "        img = cv2.imread(os.path.join(sub_directory,j),0)\n",
        "        img = cv2.resize(img,(img_size,img_size))\n",
        "        train_data.append([img,i])"
      ],
      "metadata": {
        "execution": {
          "iopub.status.busy": "2024-02-15T21:05:25.066417Z",
          "iopub.execute_input": "2024-02-15T21:05:25.066716Z",
          "iopub.status.idle": "2024-02-15T21:26:10.155112Z",
          "shell.execute_reply.started": "2024-02-15T21:05:25.066663Z",
          "shell.execute_reply": "2024-02-15T21:26:10.154306Z"
        },
        "trusted": true,
        "id": "mFd-wOJBAtcJ"
      },
      "execution_count": 11,
      "outputs": []
    },
    {
      "cell_type": "code",
      "source": [
        "len(train_data)"
      ],
      "metadata": {
        "execution": {
          "iopub.status.busy": "2024-02-15T21:26:10.15656Z",
          "iopub.execute_input": "2024-02-15T21:26:10.156922Z",
          "iopub.status.idle": "2024-02-15T21:26:10.163554Z",
          "shell.execute_reply.started": "2024-02-15T21:26:10.156891Z",
          "shell.execute_reply": "2024-02-15T21:26:10.162699Z"
        },
        "trusted": true,
        "id": "o9savwKYAtcJ",
        "colab": {
          "base_uri": "https://localhost:8080/"
        },
        "outputId": "2f818b84-aee5-4c08-f367-a1bc25fe5430"
      },
      "execution_count": 12,
      "outputs": [
        {
          "output_type": "execute_result",
          "data": {
            "text/plain": [
              "140000"
            ]
          },
          "metadata": {},
          "execution_count": 12
        }
      ]
    },
    {
      "cell_type": "code",
      "source": [
        "val_dir = \"../input/handwritten-characters/Validation/\"\n",
        "val_data = []\n",
        "img_size = 32\n",
        "for i in os.listdir(val_dir):\n",
        "    if i in non_chars:\n",
        "        continue\n",
        "    count = 0\n",
        "    sub_directory = os.path.join(val_dir,i)\n",
        "    for j in os.listdir(sub_directory):\n",
        "        count+=1\n",
        "        if count > 1000:\n",
        "            break\n",
        "        img = cv2.imread(os.path.join(sub_directory,j),0)\n",
        "        img = cv2.resize(img,(img_size,img_size))\n",
        "        val_data.append([img,i])"
      ],
      "metadata": {
        "execution": {
          "iopub.status.busy": "2024-02-15T21:26:10.167202Z",
          "iopub.execute_input": "2024-02-15T21:26:10.16757Z",
          "iopub.status.idle": "2024-02-15T21:28:06.897344Z",
          "shell.execute_reply.started": "2024-02-15T21:26:10.167532Z",
          "shell.execute_reply": "2024-02-15T21:28:06.896326Z"
        },
        "trusted": true,
        "id": "w3AG6jpDAtcK"
      },
      "execution_count": 13,
      "outputs": []
    },
    {
      "cell_type": "code",
      "source": [
        "len(val_data)"
      ],
      "metadata": {
        "execution": {
          "iopub.status.busy": "2024-02-15T21:28:06.899922Z",
          "iopub.execute_input": "2024-02-15T21:28:06.900222Z",
          "iopub.status.idle": "2024-02-15T21:28:06.905012Z",
          "shell.execute_reply.started": "2024-02-15T21:28:06.900194Z",
          "shell.execute_reply": "2024-02-15T21:28:06.904308Z"
        },
        "trusted": true,
        "id": "faaiIcShAtcK",
        "colab": {
          "base_uri": "https://localhost:8080/"
        },
        "outputId": "c82cc7a7-4543-4f39-cef2-7a3742391f91"
      },
      "execution_count": 14,
      "outputs": [
        {
          "output_type": "execute_result",
          "data": {
            "text/plain": [
              "15209"
            ]
          },
          "metadata": {},
          "execution_count": 14
        }
      ]
    },
    {
      "cell_type": "code",
      "source": [
        "random.shuffle(train_data)\n",
        "random.shuffle(val_data)"
      ],
      "metadata": {
        "execution": {
          "iopub.status.busy": "2024-02-15T21:28:06.906243Z",
          "iopub.execute_input": "2024-02-15T21:28:06.906508Z",
          "iopub.status.idle": "2024-02-15T21:28:07.111055Z",
          "shell.execute_reply.started": "2024-02-15T21:28:06.906482Z",
          "shell.execute_reply": "2024-02-15T21:28:07.110248Z"
        },
        "trusted": true,
        "id": "2YHsSMjXAtcK"
      },
      "execution_count": 15,
      "outputs": []
    },
    {
      "cell_type": "code",
      "source": [
        "train_X = []\n",
        "train_Y = []\n",
        "for features,label in train_data:\n",
        "    train_X.append(features)\n",
        "    train_Y.append(label)"
      ],
      "metadata": {
        "execution": {
          "iopub.status.busy": "2024-02-15T21:28:07.112519Z",
          "iopub.execute_input": "2024-02-15T21:28:07.112836Z",
          "iopub.status.idle": "2024-02-15T21:28:07.19066Z",
          "shell.execute_reply.started": "2024-02-15T21:28:07.112796Z",
          "shell.execute_reply": "2024-02-15T21:28:07.189895Z"
        },
        "trusted": true,
        "id": "PMyGiQ3wAtcL"
      },
      "execution_count": 16,
      "outputs": []
    },
    {
      "cell_type": "code",
      "source": [
        "val_X = []\n",
        "val_Y = []\n",
        "for features,label in val_data:\n",
        "    val_X.append(features)\n",
        "    val_Y.append(label)"
      ],
      "metadata": {
        "execution": {
          "iopub.status.busy": "2024-02-15T21:28:07.191807Z",
          "iopub.execute_input": "2024-02-15T21:28:07.19209Z",
          "iopub.status.idle": "2024-02-15T21:28:07.204322Z",
          "shell.execute_reply.started": "2024-02-15T21:28:07.192063Z",
          "shell.execute_reply": "2024-02-15T21:28:07.203593Z"
        },
        "trusted": true,
        "id": "65NpAMQfAtcL"
      },
      "execution_count": 17,
      "outputs": []
    },
    {
      "cell_type": "code",
      "source": [
        "LB = LabelBinarizer()\n",
        "train_Y = LB.fit_transform(train_Y)\n",
        "val_Y = LB.fit_transform(val_Y)"
      ],
      "metadata": {
        "execution": {
          "iopub.status.busy": "2024-02-15T21:28:07.205655Z",
          "iopub.execute_input": "2024-02-15T21:28:07.205957Z",
          "iopub.status.idle": "2024-02-15T21:28:07.618775Z",
          "shell.execute_reply.started": "2024-02-15T21:28:07.205929Z",
          "shell.execute_reply": "2024-02-15T21:28:07.617794Z"
        },
        "trusted": true,
        "id": "cN8U5k2LAtcL"
      },
      "execution_count": 18,
      "outputs": []
    },
    {
      "cell_type": "code",
      "source": [
        "train_X = np.array(train_X)/255.0\n",
        "train_X = train_X.reshape(-1,32,32,1)\n",
        "train_Y = np.array(train_Y)"
      ],
      "metadata": {
        "execution": {
          "iopub.status.busy": "2024-02-15T21:28:07.620166Z",
          "iopub.execute_input": "2024-02-15T21:28:07.620498Z",
          "iopub.status.idle": "2024-02-15T21:28:08.213662Z",
          "shell.execute_reply.started": "2024-02-15T21:28:07.620465Z",
          "shell.execute_reply": "2024-02-15T21:28:08.212875Z"
        },
        "trusted": true,
        "id": "wRAvsPtJAtcM"
      },
      "execution_count": 19,
      "outputs": []
    },
    {
      "cell_type": "code",
      "source": [
        "val_X = np.array(val_X)/255.0\n",
        "val_X = val_X.reshape(-1,32,32,1)\n",
        "val_Y = np.array(val_Y)"
      ],
      "metadata": {
        "execution": {
          "iopub.status.busy": "2024-02-15T21:28:08.214784Z",
          "iopub.execute_input": "2024-02-15T21:28:08.215067Z",
          "iopub.status.idle": "2024-02-15T21:28:08.280804Z",
          "shell.execute_reply.started": "2024-02-15T21:28:08.215037Z",
          "shell.execute_reply": "2024-02-15T21:28:08.279944Z"
        },
        "trusted": true,
        "id": "K40CAfoSAtcM"
      },
      "execution_count": 20,
      "outputs": []
    },
    {
      "cell_type": "code",
      "source": [
        "print(train_X.shape,val_X.shape)"
      ],
      "metadata": {
        "execution": {
          "iopub.status.busy": "2024-02-15T21:28:08.282104Z",
          "iopub.execute_input": "2024-02-15T21:28:08.282409Z",
          "iopub.status.idle": "2024-02-15T21:28:08.287034Z",
          "shell.execute_reply.started": "2024-02-15T21:28:08.28238Z",
          "shell.execute_reply": "2024-02-15T21:28:08.286128Z"
        },
        "trusted": true,
        "id": "tcra9DNbAtcM",
        "colab": {
          "base_uri": "https://localhost:8080/"
        },
        "outputId": "741fbe50-8755-4399-fad0-ef527e4b9e0f"
      },
      "execution_count": 21,
      "outputs": [
        {
          "output_type": "stream",
          "name": "stdout",
          "text": [
            "(140000, 32, 32, 1) (15209, 32, 32, 1)\n"
          ]
        }
      ]
    },
    {
      "cell_type": "code",
      "source": [
        "print(train_Y.shape,val_Y.shape)"
      ],
      "metadata": {
        "execution": {
          "iopub.status.busy": "2024-02-15T21:28:08.288159Z",
          "iopub.execute_input": "2024-02-15T21:28:08.288452Z",
          "iopub.status.idle": "2024-02-15T21:28:08.296979Z",
          "shell.execute_reply.started": "2024-02-15T21:28:08.288423Z",
          "shell.execute_reply": "2024-02-15T21:28:08.296147Z"
        },
        "trusted": true,
        "id": "W2fLxxY5AtcM",
        "colab": {
          "base_uri": "https://localhost:8080/"
        },
        "outputId": "f52715a4-642a-4545-999a-6f68689fcaa9"
      },
      "execution_count": 22,
      "outputs": [
        {
          "output_type": "stream",
          "name": "stdout",
          "text": [
            "(140000, 35) (15209, 35)\n"
          ]
        }
      ]
    },
    {
      "cell_type": "code",
      "source": [
        "model = Sequential()\n",
        "\n",
        "model.add(Conv2D(32, (3, 3), padding = \"same\", activation='relu', input_shape=(32,32,1)))\n",
        "model.add(MaxPooling2D(pool_size=(2,2)))\n",
        "model.add(Conv2D(64, (3, 3), activation='relu'))\n",
        "model.add(MaxPooling2D(pool_size=(2,2)))\n",
        "model.add(Conv2D(128, (3, 3), activation='relu'))\n",
        "model.add(MaxPooling2D(pool_size=(2,2)))\n",
        "model.add(Dropout(0.25))\n",
        "\n",
        "model.add(Flatten())\n",
        "model.add(Dense(128, activation='relu'))\n",
        "model.add(Dropout(0.2))\n",
        "model.add(Dense(35, activation='softmax'))"
      ],
      "metadata": {
        "execution": {
          "iopub.status.busy": "2024-02-15T21:28:08.298471Z",
          "iopub.execute_input": "2024-02-15T21:28:08.298856Z",
          "iopub.status.idle": "2024-02-15T21:28:10.663471Z",
          "shell.execute_reply.started": "2024-02-15T21:28:08.29882Z",
          "shell.execute_reply": "2024-02-15T21:28:10.662762Z"
        },
        "trusted": true,
        "id": "hnZgR_geAtcN"
      },
      "execution_count": 23,
      "outputs": []
    },
    {
      "cell_type": "code",
      "source": [
        "model.summary()"
      ],
      "metadata": {
        "execution": {
          "iopub.status.busy": "2024-02-15T21:28:10.664744Z",
          "iopub.execute_input": "2024-02-15T21:28:10.665031Z",
          "iopub.status.idle": "2024-02-15T21:28:10.673148Z",
          "shell.execute_reply.started": "2024-02-15T21:28:10.665002Z",
          "shell.execute_reply": "2024-02-15T21:28:10.672261Z"
        },
        "trusted": true,
        "id": "gWBecvi2AtcN",
        "colab": {
          "base_uri": "https://localhost:8080/"
        },
        "outputId": "c61cf087-a3ca-4f40-e157-56b4222b058d"
      },
      "execution_count": 24,
      "outputs": [
        {
          "output_type": "stream",
          "name": "stdout",
          "text": [
            "Model: \"sequential\"\n",
            "_________________________________________________________________\n",
            " Layer (type)                Output Shape              Param #   \n",
            "=================================================================\n",
            " conv2d (Conv2D)             (None, 32, 32, 32)        320       \n",
            "                                                                 \n",
            " max_pooling2d (MaxPooling2  (None, 16, 16, 32)        0         \n",
            " D)                                                              \n",
            "                                                                 \n",
            " conv2d_1 (Conv2D)           (None, 14, 14, 64)        18496     \n",
            "                                                                 \n",
            " max_pooling2d_1 (MaxPoolin  (None, 7, 7, 64)          0         \n",
            " g2D)                                                            \n",
            "                                                                 \n",
            " conv2d_2 (Conv2D)           (None, 5, 5, 128)         73856     \n",
            "                                                                 \n",
            " max_pooling2d_2 (MaxPoolin  (None, 2, 2, 128)         0         \n",
            " g2D)                                                            \n",
            "                                                                 \n",
            " dropout (Dropout)           (None, 2, 2, 128)         0         \n",
            "                                                                 \n",
            " flatten (Flatten)           (None, 512)               0         \n",
            "                                                                 \n",
            " dense (Dense)               (None, 128)               65664     \n",
            "                                                                 \n",
            " dropout_1 (Dropout)         (None, 128)               0         \n",
            "                                                                 \n",
            " dense_1 (Dense)             (None, 35)                4515      \n",
            "                                                                 \n",
            "=================================================================\n",
            "Total params: 162851 (636.14 KB)\n",
            "Trainable params: 162851 (636.14 KB)\n",
            "Non-trainable params: 0 (0.00 Byte)\n",
            "_________________________________________________________________\n"
          ]
        }
      ]
    },
    {
      "cell_type": "code",
      "source": [
        "model.compile(loss='categorical_crossentropy', optimizer=\"adam\",metrics=['accuracy'])"
      ],
      "metadata": {
        "execution": {
          "iopub.status.busy": "2024-02-15T21:28:10.674148Z",
          "iopub.execute_input": "2024-02-15T21:28:10.674417Z",
          "iopub.status.idle": "2024-02-15T21:28:10.692799Z",
          "shell.execute_reply.started": "2024-02-15T21:28:10.674392Z",
          "shell.execute_reply": "2024-02-15T21:28:10.692058Z"
        },
        "trusted": true,
        "id": "KhtiDSToAtcN"
      },
      "execution_count": 25,
      "outputs": []
    },
    {
      "cell_type": "code",
      "source": [
        "history = model.fit(train_X,train_Y, epochs=50, batch_size=32, validation_data = (val_X, val_Y),  verbose=1)"
      ],
      "metadata": {
        "execution": {
          "iopub.status.busy": "2024-02-15T21:28:10.694088Z",
          "iopub.execute_input": "2024-02-15T21:28:10.694346Z",
          "iopub.status.idle": "2024-02-15T21:38:17.692146Z",
          "shell.execute_reply.started": "2024-02-15T21:28:10.694322Z",
          "shell.execute_reply": "2024-02-15T21:38:17.691332Z"
        },
        "trusted": true,
        "id": "MEjmXQUKAtcN",
        "colab": {
          "base_uri": "https://localhost:8080/"
        },
        "outputId": "40ec55f1-df6c-4be6-e0fd-31a641075e37"
      },
      "execution_count": 26,
      "outputs": [
        {
          "output_type": "stream",
          "name": "stdout",
          "text": [
            "Epoch 1/50\n",
            "4375/4375 [==============================] - 206s 47ms/step - loss: 0.5955 - accuracy: 0.8083 - val_loss: 0.3245 - val_accuracy: 0.8921\n",
            "Epoch 2/50\n",
            "4375/4375 [==============================] - 208s 47ms/step - loss: 0.3332 - accuracy: 0.8873 - val_loss: 0.2711 - val_accuracy: 0.9052\n",
            "Epoch 3/50\n",
            "4375/4375 [==============================] - 197s 45ms/step - loss: 0.2937 - accuracy: 0.8998 - val_loss: 0.2543 - val_accuracy: 0.9098\n",
            "Epoch 4/50\n",
            "4375/4375 [==============================] - 202s 46ms/step - loss: 0.2719 - accuracy: 0.9065 - val_loss: 0.2684 - val_accuracy: 0.9077\n",
            "Epoch 5/50\n",
            "4375/4375 [==============================] - 207s 47ms/step - loss: 0.2541 - accuracy: 0.9117 - val_loss: 0.2519 - val_accuracy: 0.9116\n",
            "Epoch 6/50\n",
            "4375/4375 [==============================] - 201s 46ms/step - loss: 0.2403 - accuracy: 0.9159 - val_loss: 0.2652 - val_accuracy: 0.9026\n",
            "Epoch 7/50\n",
            "4375/4375 [==============================] - 199s 46ms/step - loss: 0.2309 - accuracy: 0.9183 - val_loss: 0.2398 - val_accuracy: 0.9103\n",
            "Epoch 8/50\n",
            "4375/4375 [==============================] - 201s 46ms/step - loss: 0.2227 - accuracy: 0.9210 - val_loss: 0.2126 - val_accuracy: 0.9292\n",
            "Epoch 9/50\n",
            "4375/4375 [==============================] - 197s 45ms/step - loss: 0.2151 - accuracy: 0.9233 - val_loss: 0.2378 - val_accuracy: 0.9130\n",
            "Epoch 10/50\n",
            "4375/4375 [==============================] - 196s 45ms/step - loss: 0.2109 - accuracy: 0.9247 - val_loss: 0.2485 - val_accuracy: 0.9094\n",
            "Epoch 11/50\n",
            "4375/4375 [==============================] - 201s 46ms/step - loss: 0.2047 - accuracy: 0.9263 - val_loss: 0.2300 - val_accuracy: 0.9235\n",
            "Epoch 12/50\n",
            "4375/4375 [==============================] - 202s 46ms/step - loss: 0.2008 - accuracy: 0.9280 - val_loss: 0.2323 - val_accuracy: 0.9203\n",
            "Epoch 13/50\n",
            "4375/4375 [==============================] - 205s 47ms/step - loss: 0.1960 - accuracy: 0.9280 - val_loss: 0.2372 - val_accuracy: 0.9225\n",
            "Epoch 14/50\n",
            "4375/4375 [==============================] - 205s 47ms/step - loss: 0.1920 - accuracy: 0.9299 - val_loss: 0.2333 - val_accuracy: 0.9225\n",
            "Epoch 15/50\n",
            "4375/4375 [==============================] - 202s 46ms/step - loss: 0.1891 - accuracy: 0.9307 - val_loss: 0.2520 - val_accuracy: 0.9106\n",
            "Epoch 16/50\n",
            "4375/4375 [==============================] - 200s 46ms/step - loss: 0.1853 - accuracy: 0.9317 - val_loss: 0.2357 - val_accuracy: 0.9232\n",
            "Epoch 17/50\n",
            "4375/4375 [==============================] - 201s 46ms/step - loss: 0.1808 - accuracy: 0.9335 - val_loss: 0.2548 - val_accuracy: 0.9118\n",
            "Epoch 18/50\n",
            "4375/4375 [==============================] - 199s 45ms/step - loss: 0.1812 - accuracy: 0.9323 - val_loss: 0.2396 - val_accuracy: 0.9196\n",
            "Epoch 19/50\n",
            "4375/4375 [==============================] - 209s 48ms/step - loss: 0.1785 - accuracy: 0.9340 - val_loss: 0.2656 - val_accuracy: 0.9078\n",
            "Epoch 20/50\n",
            "4375/4375 [==============================] - 202s 46ms/step - loss: 0.1760 - accuracy: 0.9346 - val_loss: 0.2370 - val_accuracy: 0.9258\n",
            "Epoch 21/50\n",
            "4375/4375 [==============================] - 205s 47ms/step - loss: 0.1749 - accuracy: 0.9345 - val_loss: 0.2549 - val_accuracy: 0.9212\n",
            "Epoch 22/50\n",
            "4375/4375 [==============================] - 201s 46ms/step - loss: 0.1730 - accuracy: 0.9353 - val_loss: 0.2592 - val_accuracy: 0.9156\n",
            "Epoch 23/50\n",
            "4375/4375 [==============================] - 206s 47ms/step - loss: 0.1718 - accuracy: 0.9363 - val_loss: 0.2409 - val_accuracy: 0.9188\n",
            "Epoch 24/50\n",
            "4375/4375 [==============================] - 208s 47ms/step - loss: 0.1685 - accuracy: 0.9365 - val_loss: 0.2871 - val_accuracy: 0.8968\n",
            "Epoch 25/50\n",
            "4375/4375 [==============================] - 207s 47ms/step - loss: 0.1678 - accuracy: 0.9368 - val_loss: 0.2567 - val_accuracy: 0.9212\n",
            "Epoch 26/50\n",
            "4375/4375 [==============================] - 202s 46ms/step - loss: 0.1679 - accuracy: 0.9374 - val_loss: 0.2727 - val_accuracy: 0.9136\n",
            "Epoch 27/50\n",
            "4375/4375 [==============================] - 200s 46ms/step - loss: 0.1684 - accuracy: 0.9373 - val_loss: 0.2436 - val_accuracy: 0.9247\n",
            "Epoch 28/50\n",
            "4375/4375 [==============================] - 201s 46ms/step - loss: 0.1655 - accuracy: 0.9377 - val_loss: 0.2772 - val_accuracy: 0.9077\n",
            "Epoch 29/50\n",
            "4375/4375 [==============================] - 200s 46ms/step - loss: 0.1637 - accuracy: 0.9383 - val_loss: 0.2567 - val_accuracy: 0.9231\n",
            "Epoch 30/50\n",
            "4375/4375 [==============================] - 200s 46ms/step - loss: 0.1642 - accuracy: 0.9385 - val_loss: 0.2702 - val_accuracy: 0.9104\n",
            "Epoch 31/50\n",
            "4375/4375 [==============================] - 198s 45ms/step - loss: 0.1629 - accuracy: 0.9386 - val_loss: 0.2572 - val_accuracy: 0.9237\n",
            "Epoch 32/50\n",
            "4375/4375 [==============================] - 195s 45ms/step - loss: 0.1608 - accuracy: 0.9398 - val_loss: 0.2542 - val_accuracy: 0.9242\n",
            "Epoch 33/50\n",
            "4375/4375 [==============================] - 197s 45ms/step - loss: 0.1645 - accuracy: 0.9386 - val_loss: 0.2646 - val_accuracy: 0.9182\n",
            "Epoch 34/50\n",
            "4375/4375 [==============================] - 195s 44ms/step - loss: 0.1592 - accuracy: 0.9396 - val_loss: 0.2708 - val_accuracy: 0.9141\n",
            "Epoch 35/50\n",
            "4375/4375 [==============================] - 196s 45ms/step - loss: 0.1608 - accuracy: 0.9400 - val_loss: 0.2870 - val_accuracy: 0.9037\n",
            "Epoch 36/50\n",
            "4375/4375 [==============================] - 200s 46ms/step - loss: 0.1575 - accuracy: 0.9406 - val_loss: 0.2749 - val_accuracy: 0.9229\n",
            "Epoch 37/50\n",
            "4375/4375 [==============================] - 196s 45ms/step - loss: 0.1600 - accuracy: 0.9397 - val_loss: 0.2656 - val_accuracy: 0.9160\n",
            "Epoch 38/50\n",
            "4375/4375 [==============================] - 196s 45ms/step - loss: 0.1582 - accuracy: 0.9408 - val_loss: 0.2754 - val_accuracy: 0.9162\n",
            "Epoch 39/50\n",
            "4375/4375 [==============================] - 197s 45ms/step - loss: 0.1547 - accuracy: 0.9404 - val_loss: 0.2781 - val_accuracy: 0.9161\n",
            "Epoch 40/50\n",
            "4375/4375 [==============================] - 201s 46ms/step - loss: 0.1574 - accuracy: 0.9407 - val_loss: 0.2750 - val_accuracy: 0.9198\n",
            "Epoch 41/50\n",
            "4375/4375 [==============================] - 202s 46ms/step - loss: 0.1551 - accuracy: 0.9410 - val_loss: 0.2992 - val_accuracy: 0.9130\n",
            "Epoch 42/50\n",
            "4375/4375 [==============================] - 204s 47ms/step - loss: 0.1570 - accuracy: 0.9410 - val_loss: 0.2962 - val_accuracy: 0.9096\n",
            "Epoch 43/50\n",
            "4375/4375 [==============================] - 202s 46ms/step - loss: 0.1564 - accuracy: 0.9413 - val_loss: 0.2804 - val_accuracy: 0.9173\n",
            "Epoch 44/50\n",
            "4375/4375 [==============================] - 198s 45ms/step - loss: 0.1556 - accuracy: 0.9417 - val_loss: 0.2936 - val_accuracy: 0.9130\n",
            "Epoch 45/50\n",
            "4375/4375 [==============================] - 205s 47ms/step - loss: 0.1565 - accuracy: 0.9419 - val_loss: 0.2845 - val_accuracy: 0.9174\n",
            "Epoch 46/50\n",
            "4375/4375 [==============================] - 197s 45ms/step - loss: 0.1520 - accuracy: 0.9423 - val_loss: 0.3235 - val_accuracy: 0.9064\n",
            "Epoch 47/50\n",
            "4375/4375 [==============================] - 210s 48ms/step - loss: 0.1531 - accuracy: 0.9425 - val_loss: 0.3092 - val_accuracy: 0.9101\n",
            "Epoch 48/50\n",
            "4375/4375 [==============================] - 210s 48ms/step - loss: 0.1513 - accuracy: 0.9426 - val_loss: 0.2819 - val_accuracy: 0.9182\n",
            "Epoch 49/50\n",
            "4375/4375 [==============================] - 216s 49ms/step - loss: 0.1528 - accuracy: 0.9426 - val_loss: 0.2855 - val_accuracy: 0.9187\n",
            "Epoch 50/50\n",
            "4375/4375 [==============================] - 207s 47ms/step - loss: 0.1518 - accuracy: 0.9429 - val_loss: 0.2940 - val_accuracy: 0.9131\n"
          ]
        }
      ]
    },
    {
      "cell_type": "code",
      "source": [
        "model.save('handwritten.h5')"
      ],
      "metadata": {
        "id": "HpCo0BMZAtcO",
        "colab": {
          "base_uri": "https://localhost:8080/"
        },
        "outputId": "ea4a131c-f481-4849-8be4-959cbcdafa6d"
      },
      "execution_count": 27,
      "outputs": [
        {
          "output_type": "stream",
          "name": "stderr",
          "text": [
            "/usr/local/lib/python3.10/dist-packages/keras/src/engine/training.py:3103: UserWarning: You are saving your model as an HDF5 file via `model.save()`. This file format is considered legacy. We recommend using instead the native Keras format, e.g. `model.save('my_model.keras')`.\n",
            "  saving_api.save_model(\n"
          ]
        }
      ]
    },
    {
      "cell_type": "code",
      "source": [
        "plt.plot(history.history['accuracy'])\n",
        "plt.plot(history.history['val_accuracy'])\n",
        "plt.title('Training Accuracy vs Validation Accuracy')\n",
        "plt.ylabel('Accuracy')\n",
        "plt.xlabel('Epoch')\n",
        "plt.legend(['Train', 'Validation'], loc='upper left')\n",
        "plt.show()"
      ],
      "metadata": {
        "execution": {
          "iopub.status.busy": "2024-02-15T21:38:17.693814Z",
          "iopub.execute_input": "2024-02-15T21:38:17.6941Z",
          "iopub.status.idle": "2024-02-15T21:38:18.141769Z",
          "shell.execute_reply.started": "2024-02-15T21:38:17.694071Z",
          "shell.execute_reply": "2024-02-15T21:38:18.140771Z"
        },
        "trusted": true,
        "id": "gEogIptsAtcO",
        "colab": {
          "base_uri": "https://localhost:8080/",
          "height": 472
        },
        "outputId": "9160131e-0cbd-48dc-96c4-3b5dba282886"
      },
      "execution_count": 28,
      "outputs": [
        {
          "output_type": "display_data",
          "data": {
            "text/plain": [
              "<Figure size 640x480 with 1 Axes>"
            ],
            "image/png": "[encoded data removed]"
          },
          "metadata": {}
        }
      ]
    },
    {
      "cell_type": "code",
      "source": [
        "plt.plot(history.history['loss'])\n",
        "plt.plot(history.history['val_loss'])\n",
        "plt.title('Training Loss vs Validation Loss')\n",
        "plt.ylabel('Loss')\n",
        "plt.xlabel('Epoch')\n",
        "plt.legend(['Train', 'Validation'], loc='upper left')\n",
        "plt.show()"
      ],
      "metadata": {
        "execution": {
          "iopub.status.busy": "2024-02-15T21:38:18.143051Z",
          "iopub.execute_input": "2024-02-15T21:38:18.143335Z",
          "iopub.status.idle": "2024-02-15T21:38:18.307998Z",
          "shell.execute_reply.started": "2024-02-15T21:38:18.143306Z",
          "shell.execute_reply": "2024-02-15T21:38:18.307199Z"
        },
        "trusted": true,
        "id": "gMTXkNtAAtcO",
        "colab": {
          "base_uri": "https://localhost:8080/",
          "height": 472
        },
        "outputId": "654a8d44-dc41-4d86-b4d8-0112cb267e17"
      },
      "execution_count": 29,
      "outputs": [
        {
          "output_type": "display_data",
          "data": {
            "text/plain": [
              "<Figure size 640x480 with 1 Axes>"
            ],
            "image/png": "[encoded data removed]"
          },
          "metadata": {}
        }
      ]
    },
    {
      "cell_type": "markdown",
      "source": [
        "## Recognition and Post-Processing\n",
        "1. The sort contours function is used to get the correct order of individual characters for correct output extraction. In this case for extracting a single word, a left to right sorting of individual characters is needed.\n",
        "2. The get letters function fetches the list of letters and get word function gets the individual word."
      ],
      "metadata": {
        "id": "wFRZnA9pAtcO"
      }
    },
    {
      "cell_type": "code",
      "source": [
        "def sort_contours(cnts, method=\"left-to-right\"):\n",
        "    reverse = False\n",
        "    i = 0\n",
        "    if method == \"right-to-left\" or method == \"bottom-to-top\":\n",
        "        reverse = True\n",
        "    if method == \"top-to-bottom\" or method == \"bottom-to-top\":\n",
        "        i = 1\n",
        "    boundingBoxes = [cv2.boundingRect(c) for c in cnts]\n",
        "    (cnts, boundingBoxes) = zip(*sorted(zip(cnts, boundingBoxes),\n",
        "    key=lambda b:b[1][i], reverse=reverse))\n",
        "    # return the list of sorted contours and bounding boxes\n",
        "    return (cnts, boundingBoxes)"
      ],
      "metadata": {
        "execution": {
          "iopub.status.busy": "2024-02-15T21:38:18.309559Z",
          "iopub.execute_input": "2024-02-15T21:38:18.309871Z",
          "iopub.status.idle": "2024-02-15T21:38:18.317402Z",
          "shell.execute_reply.started": "2024-02-15T21:38:18.309842Z",
          "shell.execute_reply": "2024-02-15T21:38:18.31659Z"
        },
        "trusted": true,
        "id": "JYL6a88gAtcO"
      },
      "execution_count": 30,
      "outputs": []
    },
    {
      "cell_type": "code",
      "source": [
        "def get_letters(img):\n",
        "    letters = []\n",
        "    image = cv2.imread(img)\n",
        "    gray = cv2.cvtColor(image, cv2.COLOR_BGR2GRAY)\n",
        "    ret,thresh1 = cv2.threshold(gray ,127,255,cv2.THRESH_BINARY_INV)\n",
        "    dilated = cv2.dilate(thresh1, None, iterations=2)\n",
        "\n",
        "    cnts = cv2.findContours(dilated.copy(), cv2.RETR_EXTERNAL,cv2.CHAIN_APPROX_SIMPLE)\n",
        "    cnts = imutils.grab_contours(cnts)\n",
        "    cnts = sort_contours(cnts, method=\"left-to-right\")[0]\n",
        "    # loop over the contours\n",
        "    for c in cnts:\n",
        "        if cv2.contourArea(c) > 10:\n",
        "            (x, y, w, h) = cv2.boundingRect(c)\n",
        "            cv2.rectangle(image, (x, y), (x + w, y + h), (0, 255, 0), 2)\n",
        "        roi = gray[y:y + h, x:x + w]\n",
        "        thresh = cv2.threshold(roi, 0, 255,cv2.THRESH_BINARY_INV | cv2.THRESH_OTSU)[1]\n",
        "        thresh = cv2.resize(thresh, (32, 32), interpolation = cv2.INTER_CUBIC)\n",
        "        thresh = thresh.astype(\"float32\") / 255.0\n",
        "        thresh = np.expand_dims(thresh, axis=-1)\n",
        "        thresh = thresh.reshape(1,32,32,1)\n",
        "        ypred = model.predict(thresh)\n",
        "        ypred = LB.inverse_transform(ypred)\n",
        "        [x] = ypred\n",
        "        letters.append(x)\n",
        "    return letters, image\n",
        "\n",
        "#plt.imshow(image)"
      ],
      "metadata": {
        "execution": {
          "iopub.status.busy": "2024-02-15T21:38:18.318584Z",
          "iopub.execute_input": "2024-02-15T21:38:18.318923Z",
          "iopub.status.idle": "2024-02-15T21:38:18.335185Z",
          "shell.execute_reply.started": "2024-02-15T21:38:18.318894Z",
          "shell.execute_reply": "2024-02-15T21:38:18.334327Z"
        },
        "trusted": true,
        "id": "dpanMaHyAtcP"
      },
      "execution_count": 31,
      "outputs": []
    },
    {
      "cell_type": "code",
      "source": [
        "def get_word(letter):\n",
        "    word = \"\".join(letter)\n",
        "    return word"
      ],
      "metadata": {
        "execution": {
          "iopub.status.busy": "2024-02-15T21:38:18.336432Z",
          "iopub.execute_input": "2024-02-15T21:38:18.336857Z",
          "iopub.status.idle": "2024-02-15T21:38:18.348395Z",
          "shell.execute_reply.started": "2024-02-15T21:38:18.336827Z",
          "shell.execute_reply": "2024-02-15T21:38:18.347688Z"
        },
        "trusted": true,
        "id": "MeE-eabyAtcP"
      },
      "execution_count": 32,
      "outputs": []
    },
    {
      "cell_type": "code",
      "source": [
        "letter,image = get_letters(\"../input/handwriting-recognition/train_v2/train/TRAIN_00003.jpg\")\n",
        "word = get_word(letter)\n",
        "print(word)\n",
        "plt.imshow(image)"
      ],
      "metadata": {
        "execution": {
          "iopub.status.busy": "2024-02-15T21:38:18.349784Z",
          "iopub.execute_input": "2024-02-15T21:38:18.350233Z",
          "iopub.status.idle": "2024-02-15T21:38:18.830986Z",
          "shell.execute_reply.started": "2024-02-15T21:38:18.350197Z",
          "shell.execute_reply": "2024-02-15T21:38:18.830161Z"
        },
        "trusted": true,
        "id": "xgENFSiHAtcP",
        "colab": {
          "base_uri": "https://localhost:8080/",
          "height": 261
        },
        "outputId": "f24f8602-3cc7-458b-a0ae-b4fddf08fb34"
      },
      "execution_count": 33,
      "outputs": [
        {
          "output_type": "stream",
          "name": "stdout",
          "text": [
            "1/1 [==============================] - 0s 252ms/step\n",
            "1/1 [==============================] - 0s 19ms/step\n",
            "1/1 [==============================] - 0s 19ms/step\n",
            "1/1 [==============================] - 0s 19ms/step\n",
            "1/1 [==============================] - 0s 53ms/step\n",
            "BBNES\n"
          ]
        },
        {
          "output_type": "execute_result",
          "data": {
            "text/plain": [
              "<matplotlib.image.AxesImage at 0x7c91b0d82200>"
            ]
          },
          "metadata": {},
          "execution_count": 33
        },
        {
          "output_type": "display_data",
          "data": {
            "text/plain": [
              "<Figure size 640x480 with 1 Axes>"
            ],
            "image/png": "[encoded data removed]"
          },
          "metadata": {}
        }
      ]
    },
    {
      "cell_type": "code",
      "source": [
        "letter,image = get_letters(\"../input/handwriting-recognition/train_v2/train/TRAIN_00023.jpg\")\n",
        "word = get_word(letter)\n",
        "print(word)\n",
        "plt.imshow(image)"
      ],
      "metadata": {
        "execution": {
          "iopub.status.busy": "2024-02-15T21:38:18.832317Z",
          "iopub.execute_input": "2024-02-15T21:38:18.832609Z",
          "iopub.status.idle": "2024-02-15T21:38:19.167989Z",
          "shell.execute_reply.started": "2024-02-15T21:38:18.832579Z",
          "shell.execute_reply": "2024-02-15T21:38:19.167121Z"
        },
        "trusted": true,
        "id": "dA-JuYBhAtcP",
        "colab": {
          "base_uri": "https://localhost:8080/",
          "height": 248
        },
        "outputId": "38f49acb-a451-4b36-be85-67996de9b9c4"
      },
      "execution_count": 34,
      "outputs": [
        {
          "output_type": "stream",
          "name": "stdout",
          "text": [
            "1/1 [==============================] - 0s 19ms/step\n",
            "1/1 [==============================] - 0s 19ms/step\n",
            "1/1 [==============================] - 0s 18ms/step\n",
            "1/1 [==============================] - 0s 19ms/step\n",
            "1/1 [==============================] - 0s 18ms/step\n",
            "LIL0U\n"
          ]
        },
        {
          "output_type": "execute_result",
          "data": {
            "text/plain": [
              "<matplotlib.image.AxesImage at 0x7c91b107b9d0>"
            ]
          },
          "metadata": {},
          "execution_count": 34
        },
        {
          "output_type": "display_data",
          "data": {
            "text/plain": [
              "<Figure size 640x480 with 1 Axes>"
            ],
            "image/png": "[encoded data removed]"
          },
          "metadata": {}
        }
      ]
    },
    {
      "cell_type": "code",
      "source": [
        "letter,image = get_letters(\"../input/handwriting-recognition/train_v2/train/TRAIN_00030.jpg\")\n",
        "word = get_word(letter)\n",
        "print(word)\n",
        "plt.imshow(image)"
      ],
      "metadata": {
        "execution": {
          "iopub.status.busy": "2024-02-15T21:38:19.169735Z",
          "iopub.execute_input": "2024-02-15T21:38:19.169999Z",
          "iopub.status.idle": "2024-02-15T21:38:19.559086Z",
          "shell.execute_reply.started": "2024-02-15T21:38:19.169973Z",
          "shell.execute_reply": "2024-02-15T21:38:19.558159Z"
        },
        "trusted": true,
        "id": "OyW01jDjAtcP",
        "colab": {
          "base_uri": "https://localhost:8080/",
          "height": 285
        },
        "outputId": "86171215-7bb2-48ca-abef-b88ddcb111f1"
      },
      "execution_count": 35,
      "outputs": [
        {
          "output_type": "stream",
          "name": "stdout",
          "text": [
            "1/1 [==============================] - 0s 20ms/step\n",
            "1/1 [==============================] - 0s 20ms/step\n",
            "1/1 [==============================] - 0s 19ms/step\n",
            "1/1 [==============================] - 0s 18ms/step\n",
            "1/1 [==============================] - 0s 17ms/step\n",
            "1/1 [==============================] - 0s 18ms/step\n",
            "1/1 [==============================] - 0s 19ms/step\n",
            "JAFFFLX\n"
          ]
        },
        {
          "output_type": "execute_result",
          "data": {
            "text/plain": [
              "<matplotlib.image.AxesImage at 0x7c91b0c814e0>"
            ]
          },
          "metadata": {},
          "execution_count": 35
        },
        {
          "output_type": "display_data",
          "data": {
            "text/plain": [
              "<Figure size 640x480 with 1 Axes>"
            ],
            "image/png": "[encoded data removed]"
          },
          "metadata": {}
        }
      ]
    },
    {
      "cell_type": "code",
      "source": [
        "letter,image = get_letters(\"../input/handwriting-recognition/validation_v2/validation/VALIDATION_0005.jpg\")\n",
        "word = get_word(letter)\n",
        "print(word)\n",
        "plt.imshow(image)"
      ],
      "metadata": {
        "execution": {
          "iopub.status.busy": "2024-02-15T21:38:19.560259Z",
          "iopub.execute_input": "2024-02-15T21:38:19.560547Z",
          "iopub.status.idle": "2024-02-15T21:38:19.854645Z",
          "shell.execute_reply.started": "2024-02-15T21:38:19.560518Z",
          "shell.execute_reply": "2024-02-15T21:38:19.853954Z"
        },
        "trusted": true,
        "id": "Nj4PfjTwAtcQ",
        "colab": {
          "base_uri": "https://localhost:8080/",
          "height": 230
        },
        "outputId": "8b763e55-b374-4bef-f0ff-35508449ceb2"
      },
      "execution_count": 36,
      "outputs": [
        {
          "output_type": "stream",
          "name": "stdout",
          "text": [
            "1/1 [==============================] - 0s 27ms/step\n",
            "1/1 [==============================] - 0s 27ms/step\n",
            "1/1 [==============================] - 0s 31ms/step\n",
            "1/1 [==============================] - 0s 29ms/step\n",
            "RUPP\n"
          ]
        },
        {
          "output_type": "execute_result",
          "data": {
            "text/plain": [
              "<matplotlib.image.AxesImage at 0x7c91b0c7b640>"
            ]
          },
          "metadata": {},
          "execution_count": 36
        },
        {
          "output_type": "display_data",
          "data": {
            "text/plain": [
              "<Figure size 640x480 with 1 Axes>"
            ],
            "image/png": "[encoded data removed]"
          },
          "metadata": {}
        }
      ]
    },
    {
      "cell_type": "code",
      "source": [
        "letter,image = get_letters(\"../input/handwriting-recognition/test_v2/test/TEST_0007.jpg\")\n",
        "word = get_word(letter)\n",
        "print(word)\n",
        "plt.imshow(image)"
      ],
      "metadata": {
        "execution": {
          "iopub.status.busy": "2024-02-15T21:38:19.856404Z",
          "iopub.execute_input": "2024-02-15T21:38:19.85682Z",
          "iopub.status.idle": "2024-02-15T21:38:20.353794Z",
          "shell.execute_reply.started": "2024-02-15T21:38:19.856777Z",
          "shell.execute_reply": "2024-02-15T21:38:20.352745Z"
        },
        "trusted": true,
        "id": "QHvZ1Tf4AtcQ",
        "colab": {
          "base_uri": "https://localhost:8080/",
          "height": 335
        },
        "outputId": "ea9a5ed2-1ed8-4d28-c710-2a0e5bcd6bee"
      },
      "execution_count": 37,
      "outputs": [
        {
          "output_type": "stream",
          "name": "stdout",
          "text": [
            "1/1 [==============================] - 0s 20ms/step\n",
            "1/1 [==============================] - 0s 21ms/step\n",
            "1/1 [==============================] - 0s 19ms/step\n",
            "1/1 [==============================] - 0s 19ms/step\n",
            "1/1 [==============================] - 0s 18ms/step\n",
            "1/1 [==============================] - 0s 21ms/step\n",
            "1/1 [==============================] - 0s 19ms/step\n",
            "1/1 [==============================] - 0s 19ms/step\n",
            "1/1 [==============================] - 0s 20ms/step\n",
            "VALENTJNF\n"
          ]
        },
        {
          "output_type": "execute_result",
          "data": {
            "text/plain": [
              "<matplotlib.image.AxesImage at 0x7c91b0c802b0>"
            ]
          },
          "metadata": {},
          "execution_count": 37
        },
        {
          "output_type": "display_data",
          "data": {
            "text/plain": [
              "<Figure size 640x480 with 1 Axes>"
            ],
            "image/png": "[encoded data removed]"
          },
          "metadata": {}
        }
      ]
    },
    {
      "cell_type": "markdown",
      "source": [
        "## Conclusion\n",
        "This notebook is an illustration of how a character segmentation and classification approach can be used for offline handwritten text extraction. In order to improve the model, the model should be trained on the complete dataset, this notebook was trained on slightly less number of images due to session constraints. Also, for applying this method to a complete paragraph, following approach can be used, **line segmentation >> word segmentation >> character segmentation >> classification >> post-processing**."
      ],
      "metadata": {
        "id": "DcQ3RhhKAtcQ"
      }
    }
  ]
}