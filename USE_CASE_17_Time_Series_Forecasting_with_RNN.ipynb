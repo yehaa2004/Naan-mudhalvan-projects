{
  "cells": [
    {
      "cell_type": "markdown",
      "metadata": {
        "id": "view-in-github",
        "colab_type": "text"
      },
      "source": [
        "<a href=\"https://colab.research.google.com/github/yehaa2004/Naan-mudhalvan-projects/blob/main/USE_CASE_17_Time_Series_Forecasting_with_RNN.ipynb\" target=\"_parent\"><img src=\"https://colab.research.google.com/assets/colab-badge.svg\" alt=\"Open In Colab\"/></a>"
      ]
    },
    {
      "source": [
        "\n",
        "# IMPORTANT: RUN THIS CELL IN ORDER TO IMPORT YOUR KAGGLE DATA SOURCES\n",
        "# TO THE CORRECT LOCATION (/kaggle/input) IN YOUR NOTEBOOK,\n",
        "# THEN FEEL FREE TO DELETE THIS CELL.\n",
        "# NOTE: THIS NOTEBOOK ENVIRONMENT DIFFERS FROM KAGGLE'S PYTHON\n",
        "# ENVIRONMENT SO THERE MAY BE MISSING LIBRARIES USED BY YOUR\n",
        "# NOTEBOOK.\n",
        "\n",
        "import os\n",
        "import sys\n",
        "from tempfile import NamedTemporaryFile\n",
        "from urllib.request import urlopen\n",
        "from urllib.parse import unquote, urlparse\n",
        "from urllib.error import HTTPError\n",
        "from zipfile import ZipFile\n",
        "import tarfile\n",
        "import shutil\n",
        "\n",
        "CHUNK_SIZE = 40960\n",
        "DATA_SOURCE_MAPPING = ':https%3A%2F%2Fstorage.googleapis.com%2Fkaggle-data-sets%2F28865%2F36778%2Fbundle%2Farchive.zip%3FX-Goog-Algorithm%3DGOOG4-RSA-SHA256%26X-Goog-Credential%3Dgcp-kaggle-com%2540kaggle-161607.iam.gserviceaccount.com%252F20240424%252Fauto%252Fstorage%252Fgoog4_request%26X-Goog-Date%3D20240424T050112Z%26X-Goog-Expires%3D259200%26X-Goog-SignedHeaders%3Dhost%26X-Goog-Signature%3D4e57ecb6b5e8c7fe977d4f73681f665745e22eab86afdf781db76463abae0fe5f408d1dcd9a05e63b9475ce421355ce9c15e4de27b5c8879b94e18f1ebfb7bb8562286ec1e21e781dc573af44d9ec471944b8f5d92eb20512bc049d1caff6be2301733749bde44368012aced6abf297603149542f7484c94a9e332fa4ae6fb7c84ea553230ee74958dbc3037f6fc02a5de9f1f06ce34d55339a4ad0ffb79c074114aa664fe249977fb52b79b2fdf213a71d1f3aa28a8a598da3501d54296e89335d88e8f431e019a61f6caf6c4ed5c35a342767dcfddaf2fd51510ffe61372d462c21491917c5137c10656a8a096c69513e69682b16b5ef2a41e3f9216f7802b'\n",
        "\n",
        "KAGGLE_INPUT_PATH='/kaggle/input'\n",
        "KAGGLE_WORKING_PATH='/kaggle/working'\n",
        "KAGGLE_SYMLINK='kaggle'\n",
        "\n",
        "!umount /kaggle/input/ 2> /dev/null\n",
        "shutil.rmtree('/kaggle/input', ignore_errors=True)\n",
        "os.makedirs(KAGGLE_INPUT_PATH, 0o777, exist_ok=True)\n",
        "os.makedirs(KAGGLE_WORKING_PATH, 0o777, exist_ok=True)\n",
        "\n",
        "try:\n",
        "  os.symlink(KAGGLE_INPUT_PATH, os.path.join(\"..\", 'input'), target_is_directory=True)\n",
        "except FileExistsError:\n",
        "  pass\n",
        "try:\n",
        "  os.symlink(KAGGLE_WORKING_PATH, os.path.join(\"..\", 'working'), target_is_directory=True)\n",
        "except FileExistsError:\n",
        "  pass\n",
        "\n",
        "for data_source_mapping in DATA_SOURCE_MAPPING.split(','):\n",
        "    directory, download_url_encoded = data_source_mapping.split(':')\n",
        "    download_url = unquote(download_url_encoded)\n",
        "    filename = urlparse(download_url).path\n",
        "    destination_path = os.path.join(KAGGLE_INPUT_PATH, directory)\n",
        "    try:\n",
        "        with urlopen(download_url) as fileres, NamedTemporaryFile() as tfile:\n",
        "            total_length = fileres.headers['content-length']\n",
        "            print(f'Downloading {directory}, {total_length} bytes compressed')\n",
        "            dl = 0\n",
        "            data = fileres.read(CHUNK_SIZE)\n",
        "            while len(data) > 0:\n",
        "                dl += len(data)\n",
        "                tfile.write(data)\n",
        "                done = int(50 * dl / int(total_length))\n",
        "                sys.stdout.write(f\"\\r[{'=' * done}{' ' * (50-done)}] {dl} bytes downloaded\")\n",
        "                sys.stdout.flush()\n",
        "                data = fileres.read(CHUNK_SIZE)\n",
        "            if filename.endswith('.zip'):\n",
        "              with ZipFile(tfile) as zfile:\n",
        "                zfile.extractall(destination_path)\n",
        "            else:\n",
        "              with tarfile.open(tfile.name) as tarfile:\n",
        "                tarfile.extractall(destination_path)\n",
        "            print(f'\\nDownloaded and uncompressed: {directory}')\n",
        "    except HTTPError as e:\n",
        "        print(f'Failed to load (likely expired) {download_url} to path {destination_path}')\n",
        "        continue\n",
        "    except OSError as e:\n",
        "        print(f'Failed to load {download_url} to path {destination_path}')\n",
        "        continue\n",
        "\n",
        "print('Data source import complete.')\n"
      ],
      "metadata": {
        "id": "Opv-67-FJIIC",
        "outputId": "c72221dd-f7d0-4cd4-9e53-57d3e3d0eaab",
        "colab": {
          "base_uri": "https://localhost:8080/"
        }
      },
      "cell_type": "code",
      "outputs": [
        {
          "output_type": "stream",
          "name": "stdout",
          "text": [
            "Downloading , 586498 bytes compressed\n",
            "[==================================================] 586498 bytes downloaded\n",
            "Downloaded and uncompressed: \n",
            "Data source import complete.\n"
          ]
        }
      ],
      "execution_count": 1
    },
    {
      "metadata": {
        "_uuid": "5d7457c7b71249c386fe8294cda0ca06ea24afa0",
        "id": "k3-yM3wZJIIG"
      },
      "cell_type": "markdown",
      "source": [
        "## Time Series Forecasting with Recurrent Neural Network (RNN)"
      ]
    },
    {
      "metadata": {
        "_uuid": "5d284d9d9559346c946289ddbdf2f481da9eeb0b",
        "id": "y4FXLlgPJIIS"
      },
      "cell_type": "markdown",
      "source": [
        "### Abstract"
      ]
    },
    {
      "metadata": {
        "_uuid": "79d7eb799216caca2bbc1bbb1f950816ae47329d",
        "id": "J3allUPWJIIS"
      },
      "cell_type": "markdown",
      "source": [
        "* Purpose: to practice solving a timeseries problem by using Recurrent Neural Network\n",
        "\n",
        "* Data: Bike Sharing in Washington D.C. Dataset\n",
        "\n",
        "* Applied Tools & Methods: TimeSeriesGenerator, SimpleRNN\n",
        "\n",
        "* Result: Around %80 correctness (calculated as 1-mae/mean)\n",
        "\n",
        "* Further Studies: More advanced sequential methods like LSTM and GRU can be applied."
      ]
    },
    {
      "metadata": {
        "_uuid": "b2c2b205d8bf3c1f9cd862a0f5a9ee0f39a86209",
        "id": "Ib_tDIIPJIIT"
      },
      "cell_type": "markdown",
      "source": [
        "### Explanation of the Study"
      ]
    },
    {
      "metadata": {
        "_uuid": "5fdd30973f4db979497e29c6723be0219265a295",
        "id": "VZwddGxyJIIT"
      },
      "cell_type": "markdown",
      "source": [
        "We have created a model to predict how many bicycles will be rented in the following days. The features used like weather, temperature, working day are explained in the following sections in detail.\n",
        "\n",
        "We have used SimpleRNN method in Keras library. It is one of the sequential models. The others are LSTM and GRU.\n",
        "\n",
        "Sequential models have 3 dimension (sample size, time steps, features). Preparing 3D input is another challenge. Instead of trying to create a 3D array, we use TimeSeriesGenerator class which brings some other advantages like setting the batch size.\n",
        "\n",
        "We skipped feature engineering and visualization parts because main purpose was to practice a sequential neural network. It is possible to have better achivements by applying these methods and then create a predictive model.\n",
        "\n",
        "Data is 2 years daily data. Number of samples is 731. We have splitted it into 631, 50, 50 as train, test and hold-out data respectively.\n",
        "\n",
        "We have measured the performance of the model with ( 1 - (mean average error) / (mean) ) and we have reached values around %80.\n",
        "\n",
        "There are so many further studies: More feature engineering for better accuracy and trying other sequential models."
      ]
    },
    {
      "metadata": {
        "_uuid": "213f0621d7bc05b58b72cb45ed03947c19acfc48",
        "id": "c6P-H987JIIT"
      },
      "cell_type": "markdown",
      "source": [
        "### Importing Libraries"
      ]
    },
    {
      "cell_type": "code",
      "source": [
        "from keras import activations"
      ],
      "metadata": {
        "id": "KsFOSRcbKgCD"
      },
      "execution_count": 3,
      "outputs": []
    },
    {
      "cell_type": "code",
      "source": [
        "pip install keras.activations"
      ],
      "metadata": {
        "colab": {
          "base_uri": "https://localhost:8080/"
        },
        "id": "HXw96Vz6K5jg",
        "outputId": "3c91e1a3-52ec-4c90-c017-ce7a37d9ada8"
      },
      "execution_count": 6,
      "outputs": [
        {
          "output_type": "stream",
          "name": "stdout",
          "text": [
            "\u001b[31mERROR: Could not find a version that satisfies the requirement keras.activations (from versions: none)\u001b[0m\u001b[31m\n",
            "\u001b[0m\u001b[31mERROR: No matching distribution found for keras.activations\u001b[0m\u001b[31m\n",
            "\u001b[0m"
          ]
        }
      ]
    },
    {
      "cell_type": "code",
      "source": [
        "import pandas as pd;\n",
        "import matplotlib.pyplot as plt\n",
        "from numpy import array\n",
        "from numpy import hstack\n",
        "from keras.models import Sequential\n",
        "from keras.layers import Dense\n",
        "from keras.layers import LSTM\n",
        "from keras.layers import RNN, SimpleRNN\n",
        "from keras.preprocessing.sequence import TimeseriesGenerator\n",
        "from keras.layers import Dropout\n",
        "from keras.optimizers import Adam\n",
        "\n",
        "from keras.callbacks import LambdaCallback\n",
        "from sklearn.preprocessing import MinMaxScaler"
      ],
      "metadata": {
        "id": "G3XHnn21Khey"
      },
      "execution_count": 9,
      "outputs": []
    },
    {
      "metadata": {
        "_uuid": "7d5faca318f52200e9621c9a89fdbfca87881dd0",
        "id": "5QbDAzTDJIIU"
      },
      "cell_type": "markdown",
      "source": [
        "### Data Preprocessing"
      ]
    },
    {
      "metadata": {
        "_uuid": "e2641f419bd7dc539403f9a99a8d47e977791356",
        "id": "isTje1mIJIIV"
      },
      "cell_type": "markdown",
      "source": [
        "#### Reading the dataset"
      ]
    },
    {
      "metadata": {
        "trusted": true,
        "scrolled": true,
        "_uuid": "28a41045dd15c72e93c9c419da8feb8f7751f3a5",
        "id": "qlcGVPX6JIIV",
        "colab": {
          "base_uri": "https://localhost:8080/"
        },
        "outputId": "c4e33f30-6602-40e0-937c-3da50433b099"
      },
      "cell_type": "code",
      "source": [
        "import os\n",
        "print(os.listdir(\"../input/bike-sharing-dataset\"))\n",
        "dataset = pd.read_csv('../input/bike-sharing-dataset/day.csv')"
      ],
      "execution_count": 10,
      "outputs": [
        {
          "output_type": "stream",
          "name": "stdout",
          "text": [
            "['day.csv', 'hour.csv', 'Readme.txt']\n"
          ]
        }
      ]
    },
    {
      "metadata": {
        "trusted": true,
        "_uuid": "b6570abb48fdc204a2c16ac305cac4b375190f0f",
        "id": "Z07VpsglJIIW",
        "colab": {
          "base_uri": "https://localhost:8080/",
          "height": 247
        },
        "outputId": "2c6a7429-cf93-4eb4-a494-b09850ed64f1"
      },
      "cell_type": "code",
      "source": [
        "dataset.head()"
      ],
      "execution_count": 11,
      "outputs": [
        {
          "output_type": "execute_result",
          "data": {
            "text/plain": [
              "   instant      dteday  season  yr  mnth  holiday  weekday  workingday  \\\n",
              "0        1  2011-01-01       1   0     1        0        6           0   \n",
              "1        2  2011-01-02       1   0     1        0        0           0   \n",
              "2        3  2011-01-03       1   0     1        0        1           1   \n",
              "3        4  2011-01-04       1   0     1        0        2           1   \n",
              "4        5  2011-01-05       1   0     1        0        3           1   \n",
              "\n",
              "   weathersit      temp     atemp       hum  windspeed  casual  registered  \\\n",
              "0           2  0.344167  0.363625  0.805833   0.160446     331         654   \n",
              "1           2  0.363478  0.353739  0.696087   0.248539     131         670   \n",
              "2           1  0.196364  0.189405  0.437273   0.248309     120        1229   \n",
              "3           1  0.200000  0.212122  0.590435   0.160296     108        1454   \n",
              "4           1  0.226957  0.229270  0.436957   0.186900      82        1518   \n",
              "\n",
              "    cnt  \n",
              "0   985  \n",
              "1   801  \n",
              "2  1349  \n",
              "3  1562  \n",
              "4  1600  "
            ],
            "text/html": [
              "\n",
              "  <div id=\"df-7434a8fd-7d48-492c-a885-2dcb95c2b93a\" class=\"colab-df-container\">\n",
              "    <div>\n",
              "<style scoped>\n",
              "    .dataframe tbody tr th:only-of-type {\n",
              "        vertical-align: middle;\n",
              "    }\n",
              "\n",
              "    .dataframe tbody tr th {\n",
              "        vertical-align: top;\n",
              "    }\n",
              "\n",
              "    .dataframe thead th {\n",
              "        text-align: right;\n",
              "    }\n",
              "</style>\n",
              "<table border=\"1\" class=\"dataframe\">\n",
              "  <thead>\n",
              "    <tr style=\"text-align: right;\">\n",
              "      <th></th>\n",
              "      <th>instant</th>\n",
              "      <th>dteday</th>\n",
              "      <th>season</th>\n",
              "      <th>yr</th>\n",
              "      <th>mnth</th>\n",
              "      <th>holiday</th>\n",
              "      <th>weekday</th>\n",
              "      <th>workingday</th>\n",
              "      <th>weathersit</th>\n",
              "      <th>temp</th>\n",
              "      <th>atemp</th>\n",
              "      <th>hum</th>\n",
              "      <th>windspeed</th>\n",
              "      <th>casual</th>\n",
              "      <th>registered</th>\n",
              "      <th>cnt</th>\n",
              "    </tr>\n",
              "  </thead>\n",
              "  <tbody>\n",
              "    <tr>\n",
              "      <th>0</th>\n",
              "      <td>1</td>\n",
              "      <td>2011-01-01</td>\n",
              "      <td>1</td>\n",
              "      <td>0</td>\n",
              "      <td>1</td>\n",
              "      <td>0</td>\n",
              "      <td>6</td>\n",
              "      <td>0</td>\n",
              "      <td>2</td>\n",
              "      <td>0.344167</td>\n",
              "      <td>0.363625</td>\n",
              "      <td>0.805833</td>\n",
              "      <td>0.160446</td>\n",
              "      <td>331</td>\n",
              "      <td>654</td>\n",
              "      <td>985</td>\n",
              "    </tr>\n",
              "    <tr>\n",
              "      <th>1</th>\n",
              "      <td>2</td>\n",
              "      <td>2011-01-02</td>\n",
              "      <td>1</td>\n",
              "      <td>0</td>\n",
              "      <td>1</td>\n",
              "      <td>0</td>\n",
              "      <td>0</td>\n",
              "      <td>0</td>\n",
              "      <td>2</td>\n",
              "      <td>0.363478</td>\n",
              "      <td>0.353739</td>\n",
              "      <td>0.696087</td>\n",
              "      <td>0.248539</td>\n",
              "      <td>131</td>\n",
              "      <td>670</td>\n",
              "      <td>801</td>\n",
              "    </tr>\n",
              "    <tr>\n",
              "      <th>2</th>\n",
              "      <td>3</td>\n",
              "      <td>2011-01-03</td>\n",
              "      <td>1</td>\n",
              "      <td>0</td>\n",
              "      <td>1</td>\n",
              "      <td>0</td>\n",
              "      <td>1</td>\n",
              "      <td>1</td>\n",
              "      <td>1</td>\n",
              "      <td>0.196364</td>\n",
              "      <td>0.189405</td>\n",
              "      <td>0.437273</td>\n",
              "      <td>0.248309</td>\n",
              "      <td>120</td>\n",
              "      <td>1229</td>\n",
              "      <td>1349</td>\n",
              "    </tr>\n",
              "    <tr>\n",
              "      <th>3</th>\n",
              "      <td>4</td>\n",
              "      <td>2011-01-04</td>\n",
              "      <td>1</td>\n",
              "      <td>0</td>\n",
              "      <td>1</td>\n",
              "      <td>0</td>\n",
              "      <td>2</td>\n",
              "      <td>1</td>\n",
              "      <td>1</td>\n",
              "      <td>0.200000</td>\n",
              "      <td>0.212122</td>\n",
              "      <td>0.590435</td>\n",
              "      <td>0.160296</td>\n",
              "      <td>108</td>\n",
              "      <td>1454</td>\n",
              "      <td>1562</td>\n",
              "    </tr>\n",
              "    <tr>\n",
              "      <th>4</th>\n",
              "      <td>5</td>\n",
              "      <td>2011-01-05</td>\n",
              "      <td>1</td>\n",
              "      <td>0</td>\n",
              "      <td>1</td>\n",
              "      <td>0</td>\n",
              "      <td>3</td>\n",
              "      <td>1</td>\n",
              "      <td>1</td>\n",
              "      <td>0.226957</td>\n",
              "      <td>0.229270</td>\n",
              "      <td>0.436957</td>\n",
              "      <td>0.186900</td>\n",
              "      <td>82</td>\n",
              "      <td>1518</td>\n",
              "      <td>1600</td>\n",
              "    </tr>\n",
              "  </tbody>\n",
              "</table>\n",
              "</div>\n",
              "    <div class=\"colab-df-buttons\">\n",
              "\n",
              "  <div class=\"colab-df-container\">\n",
              "    <button class=\"colab-df-convert\" onclick=\"convertToInteractive('df-7434a8fd-7d48-492c-a885-2dcb95c2b93a')\"\n",
              "            title=\"Convert this dataframe to an interactive table.\"\n",
              "            style=\"display:none;\">\n",
              "\n",
              "  <svg xmlns=\"http://www.w3.org/2000/svg\" height=\"24px\" viewBox=\"0 -960 960 960\">\n",
              "    <path d=\"M120-120v-720h720v720H120Zm60-500h600v-160H180v160Zm220 220h160v-160H400v160Zm0 220h160v-160H400v160ZM180-400h160v-160H180v160Zm440 0h160v-160H620v160ZM180-180h160v-160H180v160Zm440 0h160v-160H620v160Z\"/>\n",
              "  </svg>\n",
              "    </button>\n",
              "\n",
              "  <style>\n",
              "    .colab-df-container {\n",
              "      display:flex;\n",
              "      gap: 12px;\n",
              "    }\n",
              "\n",
              "    .colab-df-convert {\n",
              "      background-color: #E8F0FE;\n",
              "      border: none;\n",
              "      border-radius: 50%;\n",
              "      cursor: pointer;\n",
              "      display: none;\n",
              "      fill: #1967D2;\n",
              "      height: 32px;\n",
              "      padding: 0 0 0 0;\n",
              "      width: 32px;\n",
              "    }\n",
              "\n",
              "    .colab-df-convert:hover {\n",
              "      background-color: #E2EBFA;\n",
              "      box-shadow: 0px 1px 2px rgba(60, 64, 67, 0.3), 0px 1px 3px 1px rgba(60, 64, 67, 0.15);\n",
              "      fill: #174EA6;\n",
              "    }\n",
              "\n",
              "    .colab-df-buttons div {\n",
              "      margin-bottom: 4px;\n",
              "    }\n",
              "\n",
              "    [theme=dark] .colab-df-convert {\n",
              "      background-color: #3B4455;\n",
              "      fill: #D2E3FC;\n",
              "    }\n",
              "\n",
              "    [theme=dark] .colab-df-convert:hover {\n",
              "      background-color: #434B5C;\n",
              "      box-shadow: 0px 1px 3px 1px rgba(0, 0, 0, 0.15);\n",
              "      filter: drop-shadow(0px 1px 2px rgba(0, 0, 0, 0.3));\n",
              "      fill: #FFFFFF;\n",
              "    }\n",
              "  </style>\n",
              "\n",
              "    <script>\n",
              "      const buttonEl =\n",
              "        document.querySelector('#df-7434a8fd-7d48-492c-a885-2dcb95c2b93a button.colab-df-convert');\n",
              "      buttonEl.style.display =\n",
              "        google.colab.kernel.accessAllowed ? 'block' : 'none';\n",
              "\n",
              "      async function convertToInteractive(key) {\n",
              "        const element = document.querySelector('#df-7434a8fd-7d48-492c-a885-2dcb95c2b93a');\n",
              "        const dataTable =\n",
              "          await google.colab.kernel.invokeFunction('convertToInteractive',\n",
              "                                                    [key], {});\n",
              "        if (!dataTable) return;\n",
              "\n",
              "        const docLinkHtml = 'Like what you see? Visit the ' +\n",
              "          '<a target=\"_blank\" href=https://colab.research.google.com/notebooks/data_table.ipynb>data table notebook</a>'\n",
              "          + ' to learn more about interactive tables.';\n",
              "        element.innerHTML = '';\n",
              "        dataTable['output_type'] = 'display_data';\n",
              "        await google.colab.output.renderOutput(dataTable, element);\n",
              "        const docLink = document.createElement('div');\n",
              "        docLink.innerHTML = docLinkHtml;\n",
              "        element.appendChild(docLink);\n",
              "      }\n",
              "    </script>\n",
              "  </div>\n",
              "\n",
              "\n",
              "<div id=\"df-cc5ce081-0e3f-4d4f-b2c3-9bf63cd4a230\">\n",
              "  <button class=\"colab-df-quickchart\" onclick=\"quickchart('df-cc5ce081-0e3f-4d4f-b2c3-9bf63cd4a230')\"\n",
              "            title=\"Suggest charts\"\n",
              "            style=\"display:none;\">\n",
              "\n",
              "<svg xmlns=\"http://www.w3.org/2000/svg\" height=\"24px\"viewBox=\"0 0 24 24\"\n",
              "     width=\"24px\">\n",
              "    <g>\n",
              "        <path d=\"M19 3H5c-1.1 0-2 .9-2 2v14c0 1.1.9 2 2 2h14c1.1 0 2-.9 2-2V5c0-1.1-.9-2-2-2zM9 17H7v-7h2v7zm4 0h-2V7h2v10zm4 0h-2v-4h2v4z\"/>\n",
              "    </g>\n",
              "</svg>\n",
              "  </button>\n",
              "\n",
              "<style>\n",
              "  .colab-df-quickchart {\n",
              "      --bg-color: #E8F0FE;\n",
              "      --fill-color: #1967D2;\n",
              "      --hover-bg-color: #E2EBFA;\n",
              "      --hover-fill-color: #174EA6;\n",
              "      --disabled-fill-color: #AAA;\n",
              "      --disabled-bg-color: #DDD;\n",
              "  }\n",
              "\n",
              "  [theme=dark] .colab-df-quickchart {\n",
              "      --bg-color: #3B4455;\n",
              "      --fill-color: #D2E3FC;\n",
              "      --hover-bg-color: #434B5C;\n",
              "      --hover-fill-color: #FFFFFF;\n",
              "      --disabled-bg-color: #3B4455;\n",
              "      --disabled-fill-color: #666;\n",
              "  }\n",
              "\n",
              "  .colab-df-quickchart {\n",
              "    background-color: var(--bg-color);\n",
              "    border: none;\n",
              "    border-radius: 50%;\n",
              "    cursor: pointer;\n",
              "    display: none;\n",
              "    fill: var(--fill-color);\n",
              "    height: 32px;\n",
              "    padding: 0;\n",
              "    width: 32px;\n",
              "  }\n",
              "\n",
              "  .colab-df-quickchart:hover {\n",
              "    background-color: var(--hover-bg-color);\n",
              "    box-shadow: 0 1px 2px rgba(60, 64, 67, 0.3), 0 1px 3px 1px rgba(60, 64, 67, 0.15);\n",
              "    fill: var(--button-hover-fill-color);\n",
              "  }\n",
              "\n",
              "  .colab-df-quickchart-complete:disabled,\n",
              "  .colab-df-quickchart-complete:disabled:hover {\n",
              "    background-color: var(--disabled-bg-color);\n",
              "    fill: var(--disabled-fill-color);\n",
              "    box-shadow: none;\n",
              "  }\n",
              "\n",
              "  .colab-df-spinner {\n",
              "    border: 2px solid var(--fill-color);\n",
              "    border-color: transparent;\n",
              "    border-bottom-color: var(--fill-color);\n",
              "    animation:\n",
              "      spin 1s steps(1) infinite;\n",
              "  }\n",
              "\n",
              "  @keyframes spin {\n",
              "    0% {\n",
              "      border-color: transparent;\n",
              "      border-bottom-color: var(--fill-color);\n",
              "      border-left-color: var(--fill-color);\n",
              "    }\n",
              "    20% {\n",
              "      border-color: transparent;\n",
              "      border-left-color: var(--fill-color);\n",
              "      border-top-color: var(--fill-color);\n",
              "    }\n",
              "    30% {\n",
              "      border-color: transparent;\n",
              "      border-left-color: var(--fill-color);\n",
              "      border-top-color: var(--fill-color);\n",
              "      border-right-color: var(--fill-color);\n",
              "    }\n",
              "    40% {\n",
              "      border-color: transparent;\n",
              "      border-right-color: var(--fill-color);\n",
              "      border-top-color: var(--fill-color);\n",
              "    }\n",
              "    60% {\n",
              "      border-color: transparent;\n",
              "      border-right-color: var(--fill-color);\n",
              "    }\n",
              "    80% {\n",
              "      border-color: transparent;\n",
              "      border-right-color: var(--fill-color);\n",
              "      border-bottom-color: var(--fill-color);\n",
              "    }\n",
              "    90% {\n",
              "      border-color: transparent;\n",
              "      border-bottom-color: var(--fill-color);\n",
              "    }\n",
              "  }\n",
              "</style>\n",
              "\n",
              "  <script>\n",
              "    async function quickchart(key) {\n",
              "      const quickchartButtonEl =\n",
              "        document.querySelector('#' + key + ' button');\n",
              "      quickchartButtonEl.disabled = true;  // To prevent multiple clicks.\n",
              "      quickchartButtonEl.classList.add('colab-df-spinner');\n",
              "      try {\n",
              "        const charts = await google.colab.kernel.invokeFunction(\n",
              "            'suggestCharts', [key], {});\n",
              "      } catch (error) {\n",
              "        console.error('Error during call to suggestCharts:', error);\n",
              "      }\n",
              "      quickchartButtonEl.classList.remove('colab-df-spinner');\n",
              "      quickchartButtonEl.classList.add('colab-df-quickchart-complete');\n",
              "    }\n",
              "    (() => {\n",
              "      let quickchartButtonEl =\n",
              "        document.querySelector('#df-cc5ce081-0e3f-4d4f-b2c3-9bf63cd4a230 button');\n",
              "      quickchartButtonEl.style.display =\n",
              "        google.colab.kernel.accessAllowed ? 'block' : 'none';\n",
              "    })();\n",
              "  </script>\n",
              "</div>\n",
              "\n",
              "    </div>\n",
              "  </div>\n"
            ],
            "application/vnd.google.colaboratory.intrinsic+json": {
              "type": "dataframe",
              "variable_name": "dataset",
              "summary": "{\n  \"name\": \"dataset\",\n  \"rows\": 731,\n  \"fields\": [\n    {\n      \"column\": \"instant\",\n      \"properties\": {\n        \"dtype\": \"number\",\n        \"std\": 211,\n        \"min\": 1,\n        \"max\": 731,\n        \"num_unique_values\": 731,\n        \"samples\": [\n          704,\n          34,\n          301\n        ],\n        \"semantic_type\": \"\",\n        \"description\": \"\"\n      }\n    },\n    {\n      \"column\": \"dteday\",\n      \"properties\": {\n        \"dtype\": \"object\",\n        \"num_unique_values\": 731,\n        \"samples\": [\n          \"2012-12-04\",\n          \"2011-02-03\",\n          \"2011-10-28\"\n        ],\n        \"semantic_type\": \"\",\n        \"description\": \"\"\n      }\n    },\n    {\n      \"column\": \"season\",\n      \"properties\": {\n        \"dtype\": \"number\",\n        \"std\": 1,\n        \"min\": 1,\n        \"max\": 4,\n        \"num_unique_values\": 4,\n        \"samples\": [\n          2,\n          4,\n          1\n        ],\n        \"semantic_type\": \"\",\n        \"description\": \"\"\n      }\n    },\n    {\n      \"column\": \"yr\",\n      \"properties\": {\n        \"dtype\": \"number\",\n        \"std\": 0,\n        \"min\": 0,\n        \"max\": 1,\n        \"num_unique_values\": 2,\n        \"samples\": [\n          1,\n          0\n        ],\n        \"semantic_type\": \"\",\n        \"description\": \"\"\n      }\n    },\n    {\n      \"column\": \"mnth\",\n      \"properties\": {\n        \"dtype\": \"number\",\n        \"std\": 3,\n        \"min\": 1,\n        \"max\": 12,\n        \"num_unique_values\": 12,\n        \"samples\": [\n          11,\n          10\n        ],\n        \"semantic_type\": \"\",\n        \"description\": \"\"\n      }\n    },\n    {\n      \"column\": \"holiday\",\n      \"properties\": {\n        \"dtype\": \"number\",\n        \"std\": 0,\n        \"min\": 0,\n        \"max\": 1,\n        \"num_unique_values\": 2,\n        \"samples\": [\n          1,\n          0\n        ],\n        \"semantic_type\": \"\",\n        \"description\": \"\"\n      }\n    },\n    {\n      \"column\": \"weekday\",\n      \"properties\": {\n        \"dtype\": \"number\",\n        \"std\": 2,\n        \"min\": 0,\n        \"max\": 6,\n        \"num_unique_values\": 7,\n        \"samples\": [\n          6,\n          0\n        ],\n        \"semantic_type\": \"\",\n        \"description\": \"\"\n      }\n    },\n    {\n      \"column\": \"workingday\",\n      \"properties\": {\n        \"dtype\": \"number\",\n        \"std\": 0,\n        \"min\": 0,\n        \"max\": 1,\n        \"num_unique_values\": 2,\n        \"samples\": [\n          1,\n          0\n        ],\n        \"semantic_type\": \"\",\n        \"description\": \"\"\n      }\n    },\n    {\n      \"column\": \"weathersit\",\n      \"properties\": {\n        \"dtype\": \"number\",\n        \"std\": 0,\n        \"min\": 1,\n        \"max\": 3,\n        \"num_unique_values\": 3,\n        \"samples\": [\n          2,\n          1\n        ],\n        \"semantic_type\": \"\",\n        \"description\": \"\"\n      }\n    },\n    {\n      \"column\": \"temp\",\n      \"properties\": {\n        \"dtype\": \"number\",\n        \"std\": 0.18305099611148878,\n        \"min\": 0.0591304,\n        \"max\": 0.861667,\n        \"num_unique_values\": 499,\n        \"samples\": [\n          0.544167,\n          0.430435\n        ],\n        \"semantic_type\": \"\",\n        \"description\": \"\"\n      }\n    },\n    {\n      \"column\": \"atemp\",\n      \"properties\": {\n        \"dtype\": \"number\",\n        \"std\": 0.1629611783863113,\n        \"min\": 0.0790696,\n        \"max\": 0.840896,\n        \"num_unique_values\": 690,\n        \"samples\": [\n          0.463375,\n          0.599754\n        ],\n        \"semantic_type\": \"\",\n        \"description\": \"\"\n      }\n    },\n    {\n      \"column\": \"hum\",\n      \"properties\": {\n        \"dtype\": \"number\",\n        \"std\": 0.14242909513835394,\n        \"min\": 0.0,\n        \"max\": 0.9725,\n        \"num_unique_values\": 595,\n        \"samples\": [\n          0.707083,\n          0.718333\n        ],\n        \"semantic_type\": \"\",\n        \"description\": \"\"\n      }\n    },\n    {\n      \"column\": \"windspeed\",\n      \"properties\": {\n        \"dtype\": \"number\",\n        \"std\": 0.07749787068166941,\n        \"min\": 0.0223917,\n        \"max\": 0.507463,\n        \"num_unique_values\": 650,\n        \"samples\": [\n          0.100742,\n          0.139308\n        ],\n        \"semantic_type\": \"\",\n        \"description\": \"\"\n      }\n    },\n    {\n      \"column\": \"casual\",\n      \"properties\": {\n        \"dtype\": \"number\",\n        \"std\": 686,\n        \"min\": 2,\n        \"max\": 3410,\n        \"num_unique_values\": 606,\n        \"samples\": [\n          709,\n          449\n        ],\n        \"semantic_type\": \"\",\n        \"description\": \"\"\n      }\n    },\n    {\n      \"column\": \"registered\",\n      \"properties\": {\n        \"dtype\": \"number\",\n        \"std\": 1560,\n        \"min\": 20,\n        \"max\": 6946,\n        \"num_unique_values\": 679,\n        \"samples\": [\n          4531,\n          2553\n        ],\n        \"semantic_type\": \"\",\n        \"description\": \"\"\n      }\n    },\n    {\n      \"column\": \"cnt\",\n      \"properties\": {\n        \"dtype\": \"number\",\n        \"std\": 1937,\n        \"min\": 22,\n        \"max\": 8714,\n        \"num_unique_values\": 696,\n        \"samples\": [\n          5170,\n          1607\n        ],\n        \"semantic_type\": \"\",\n        \"description\": \"\"\n      }\n    }\n  ]\n}"
            }
          },
          "metadata": {},
          "execution_count": 11
        }
      ]
    },
    {
      "metadata": {
        "_uuid": "f5c7e4af44a7f55fb2eb3a244a776946e02f4cd1",
        "id": "MCC_kYvcJIIW"
      },
      "cell_type": "markdown",
      "source": [
        "Daily data has the following fields. Thanks to the people who prepared it because it is very well processed data with even scaled features.\n",
        "\n",
        "instant: Record index\n",
        "\n",
        "dteday: Date\n",
        "\n",
        "season: Season (1:springer, 2:summer, 3:fall, 4:winter)\n",
        "\n",
        "yr: Year (0: 2011, 1:2012)\n",
        "\n",
        "mnth: Month (1 to 12)\n",
        "\n",
        "holiday: weather day is holiday or not (extracted from Holiday Schedule)\n",
        "\n",
        "weekday: Day of the week\n",
        "\n",
        "workingday: If day is neither weekend nor holiday is 1, otherwise is 0.\n",
        "\n",
        "weathersit: (extracted from Freemeteo)\n",
        "1: Clear, Few clouds, Partly cloudy, Partly cloudy\n",
        "2: Mist + Cloudy, Mist + Broken clouds, Mist + Few clouds, Mist\n",
        "3: Light Snow, Light Rain + Thunderstorm + Scattered clouds, Light Rain + Scattered clouds\n",
        "4: Heavy Rain + Ice Pallets + Thunderstorm + Mist, Snow + Fog\n",
        "\n",
        "temp: Normalized temperature in Celsius. The values are derived via (t-t_min)/(t_max-t_min), t_min=-8, t_max=+39 (only in hourly scale)\n",
        "\n",
        "atemp: Normalized feeling temperature in Celsius. The values are derived via (t-t_min)/(t_max-t_min), t_min=-16, t_max=+50 (only in hourly scale)\n",
        "\n",
        "hum: Normalized humidity. The values are divided to 100 (max)\n",
        "\n",
        "windspeed: Normalized wind speed. The values are divided to 67 (max)\n",
        "\n",
        "casual: count of casual users\n",
        "\n",
        "registered: count of registered users\n",
        "\n",
        "cnt: count of total rental bikes including both casual and registered"
      ]
    },
    {
      "metadata": {
        "_uuid": "56ca2dbf187b569c14299def2fef40a1500ff130",
        "id": "D3qylzDaJIIW"
      },
      "cell_type": "markdown",
      "source": [
        "#### Plot of 2 years number of sharing (cnt)"
      ]
    },
    {
      "metadata": {
        "trusted": false,
        "_uuid": "993226fe5216f4ff91996cee7976e76a1f75c5b2",
        "id": "0Dz6N-jVJIIW",
        "colab": {
          "base_uri": "https://localhost:8080/",
          "height": 830
        },
        "outputId": "469bee75-20fc-4771-e650-5cc3cf8eee76"
      },
      "cell_type": "code",
      "source": [
        "plt.figure(figsize=(15,10))\n",
        "plt.plot(dataset['cnt'], color='blue')\n",
        "plt.show()"
      ],
      "execution_count": 12,
      "outputs": [
        {
          "output_type": "display_data",
          "data": {
            "text/plain": [
              "<Figure size 1500x1000 with 1 Axes>"
            ],
            "image/png": "[encoded data removed]"
          },
          "metadata": {}
        }
      ]
    },
    {
      "metadata": {
        "_uuid": "b0261d3e6c602e943a3e923ea9ef5ba5370ac519",
        "id": "WHNmE3_OJIIX"
      },
      "cell_type": "markdown",
      "source": [
        "#### Data exploration and Manipulation"
      ]
    },
    {
      "metadata": {
        "_uuid": "c7746e593324219be97eb0b8c5518f8c9d0ff465",
        "id": "nniz4GUpJIIX"
      },
      "cell_type": "markdown",
      "source": [
        "* Number of bike sharing is 22 only at 2012-10-29 and such a low value deserves a special attention.\n",
        "\n",
        "* There was a hurricane at Washington at that day.\n",
        "\n",
        "* Since it is such an extraordinary day, hurricane and the following days data will be replaced by the average of that month."
      ]
    },
    {
      "metadata": {
        "trusted": false,
        "_uuid": "cb4cf3256f50fcd8081ebb9f6c58097f816486d3",
        "id": "ZdxnMA5QJIIX",
        "colab": {
          "base_uri": "https://localhost:8080/"
        },
        "outputId": "89fc25b3-1af1-4cb1-e550-4d23e1942e79"
      },
      "cell_type": "code",
      "source": [
        "temp = dataset[dataset.yr == 1]\n",
        "temp = temp[temp.mnth == 10]\n",
        "print(temp.cnt.mean())"
      ],
      "execution_count": 13,
      "outputs": [
        {
          "output_type": "stream",
          "name": "stdout",
          "text": [
            "6414.225806451613\n"
          ]
        }
      ]
    },
    {
      "metadata": {
        "trusted": false,
        "_uuid": "f6be3304529a19c6d5532a1f31bfb6ef3cacd853",
        "id": "EddsIqujJIIX",
        "colab": {
          "base_uri": "https://localhost:8080/",
          "height": 206
        },
        "outputId": "52ad686b-6259-42f0-9c6e-4ad31cebb4a8"
      },
      "cell_type": "code",
      "source": [
        "temp.head()"
      ],
      "execution_count": 14,
      "outputs": [
        {
          "output_type": "execute_result",
          "data": {
            "text/plain": [
              "     instant      dteday  season  yr  mnth  holiday  weekday  workingday  \\\n",
              "639      640  2012-10-01       4   1    10        0        1           1   \n",
              "640      641  2012-10-02       4   1    10        0        2           1   \n",
              "641      642  2012-10-03       4   1    10        0        3           1   \n",
              "642      643  2012-10-04       4   1    10        0        4           1   \n",
              "643      644  2012-10-05       4   1    10        0        5           1   \n",
              "\n",
              "     weathersit      temp     atemp       hum  windspeed  casual  registered  \\\n",
              "639           2  0.520833  0.512000  0.649167   0.090804     763        6015   \n",
              "640           3  0.590833  0.542333  0.871667   0.104475     315        4324   \n",
              "641           2  0.657500  0.599133  0.793750   0.066546     728        6844   \n",
              "642           2  0.657500  0.607975  0.722917   0.117546     891        6437   \n",
              "643           1  0.615000  0.580187  0.627500   0.106350    1516        6640   \n",
              "\n",
              "      cnt  \n",
              "639  6778  \n",
              "640  4639  \n",
              "641  7572  \n",
              "642  7328  \n",
              "643  8156  "
            ],
            "text/html": [
              "\n",
              "  <div id=\"df-df7c5219-871e-4a41-a4f0-2354d2f42d03\" class=\"colab-df-container\">\n",
              "    <div>\n",
              "<style scoped>\n",
              "    .dataframe tbody tr th:only-of-type {\n",
              "        vertical-align: middle;\n",
              "    }\n",
              "\n",
              "    .dataframe tbody tr th {\n",
              "        vertical-align: top;\n",
              "    }\n",
              "\n",
              "    .dataframe thead th {\n",
              "        text-align: right;\n",
              "    }\n",
              "</style>\n",
              "<table border=\"1\" class=\"dataframe\">\n",
              "  <thead>\n",
              "    <tr style=\"text-align: right;\">\n",
              "      <th></th>\n",
              "      <th>instant</th>\n",
              "      <th>dteday</th>\n",
              "      <th>season</th>\n",
              "      <th>yr</th>\n",
              "      <th>mnth</th>\n",
              "      <th>holiday</th>\n",
              "      <th>weekday</th>\n",
              "      <th>workingday</th>\n",
              "      <th>weathersit</th>\n",
              "      <th>temp</th>\n",
              "      <th>atemp</th>\n",
              "      <th>hum</th>\n",
              "      <th>windspeed</th>\n",
              "      <th>casual</th>\n",
              "      <th>registered</th>\n",
              "      <th>cnt</th>\n",
              "    </tr>\n",
              "  </thead>\n",
              "  <tbody>\n",
              "    <tr>\n",
              "      <th>639</th>\n",
              "      <td>640</td>\n",
              "      <td>2012-10-01</td>\n",
              "      <td>4</td>\n",
              "      <td>1</td>\n",
              "      <td>10</td>\n",
              "      <td>0</td>\n",
              "      <td>1</td>\n",
              "      <td>1</td>\n",
              "      <td>2</td>\n",
              "      <td>0.520833</td>\n",
              "      <td>0.512000</td>\n",
              "      <td>0.649167</td>\n",
              "      <td>0.090804</td>\n",
              "      <td>763</td>\n",
              "      <td>6015</td>\n",
              "      <td>6778</td>\n",
              "    </tr>\n",
              "    <tr>\n",
              "      <th>640</th>\n",
              "      <td>641</td>\n",
              "      <td>2012-10-02</td>\n",
              "      <td>4</td>\n",
              "      <td>1</td>\n",
              "      <td>10</td>\n",
              "      <td>0</td>\n",
              "      <td>2</td>\n",
              "      <td>1</td>\n",
              "      <td>3</td>\n",
              "      <td>0.590833</td>\n",
              "      <td>0.542333</td>\n",
              "      <td>0.871667</td>\n",
              "      <td>0.104475</td>\n",
              "      <td>315</td>\n",
              "      <td>4324</td>\n",
              "      <td>4639</td>\n",
              "    </tr>\n",
              "    <tr>\n",
              "      <th>641</th>\n",
              "      <td>642</td>\n",
              "      <td>2012-10-03</td>\n",
              "      <td>4</td>\n",
              "      <td>1</td>\n",
              "      <td>10</td>\n",
              "      <td>0</td>\n",
              "      <td>3</td>\n",
              "      <td>1</td>\n",
              "      <td>2</td>\n",
              "      <td>0.657500</td>\n",
              "      <td>0.599133</td>\n",
              "      <td>0.793750</td>\n",
              "      <td>0.066546</td>\n",
              "      <td>728</td>\n",
              "      <td>6844</td>\n",
              "      <td>7572</td>\n",
              "    </tr>\n",
              "    <tr>\n",
              "      <th>642</th>\n",
              "      <td>643</td>\n",
              "      <td>2012-10-04</td>\n",
              "      <td>4</td>\n",
              "      <td>1</td>\n",
              "      <td>10</td>\n",
              "      <td>0</td>\n",
              "      <td>4</td>\n",
              "      <td>1</td>\n",
              "      <td>2</td>\n",
              "      <td>0.657500</td>\n",
              "      <td>0.607975</td>\n",
              "      <td>0.722917</td>\n",
              "      <td>0.117546</td>\n",
              "      <td>891</td>\n",
              "      <td>6437</td>\n",
              "      <td>7328</td>\n",
              "    </tr>\n",
              "    <tr>\n",
              "      <th>643</th>\n",
              "      <td>644</td>\n",
              "      <td>2012-10-05</td>\n",
              "      <td>4</td>\n",
              "      <td>1</td>\n",
              "      <td>10</td>\n",
              "      <td>0</td>\n",
              "      <td>5</td>\n",
              "      <td>1</td>\n",
              "      <td>1</td>\n",
              "      <td>0.615000</td>\n",
              "      <td>0.580187</td>\n",
              "      <td>0.627500</td>\n",
              "      <td>0.106350</td>\n",
              "      <td>1516</td>\n",
              "      <td>6640</td>\n",
              "      <td>8156</td>\n",
              "    </tr>\n",
              "  </tbody>\n",
              "</table>\n",
              "</div>\n",
              "    <div class=\"colab-df-buttons\">\n",
              "\n",
              "  <div class=\"colab-df-container\">\n",
              "    <button class=\"colab-df-convert\" onclick=\"convertToInteractive('df-df7c5219-871e-4a41-a4f0-2354d2f42d03')\"\n",
              "            title=\"Convert this dataframe to an interactive table.\"\n",
              "            style=\"display:none;\">\n",
              "\n",
              "  <svg xmlns=\"http://www.w3.org/2000/svg\" height=\"24px\" viewBox=\"0 -960 960 960\">\n",
              "    <path d=\"M120-120v-720h720v720H120Zm60-500h600v-160H180v160Zm220 220h160v-160H400v160Zm0 220h160v-160H400v160ZM180-400h160v-160H180v160Zm440 0h160v-160H620v160ZM180-180h160v-160H180v160Zm440 0h160v-160H620v160Z\"/>\n",
              "  </svg>\n",
              "    </button>\n",
              "\n",
              "  <style>\n",
              "    .colab-df-container {\n",
              "      display:flex;\n",
              "      gap: 12px;\n",
              "    }\n",
              "\n",
              "    .colab-df-convert {\n",
              "      background-color: #E8F0FE;\n",
              "      border: none;\n",
              "      border-radius: 50%;\n",
              "      cursor: pointer;\n",
              "      display: none;\n",
              "      fill: #1967D2;\n",
              "      height: 32px;\n",
              "      padding: 0 0 0 0;\n",
              "      width: 32px;\n",
              "    }\n",
              "\n",
              "    .colab-df-convert:hover {\n",
              "      background-color: #E2EBFA;\n",
              "      box-shadow: 0px 1px 2px rgba(60, 64, 67, 0.3), 0px 1px 3px 1px rgba(60, 64, 67, 0.15);\n",
              "      fill: #174EA6;\n",
              "    }\n",
              "\n",
              "    .colab-df-buttons div {\n",
              "      margin-bottom: 4px;\n",
              "    }\n",
              "\n",
              "    [theme=dark] .colab-df-convert {\n",
              "      background-color: #3B4455;\n",
              "      fill: #D2E3FC;\n",
              "    }\n",
              "\n",
              "    [theme=dark] .colab-df-convert:hover {\n",
              "      background-color: #434B5C;\n",
              "      box-shadow: 0px 1px 3px 1px rgba(0, 0, 0, 0.15);\n",
              "      filter: drop-shadow(0px 1px 2px rgba(0, 0, 0, 0.3));\n",
              "      fill: #FFFFFF;\n",
              "    }\n",
              "  </style>\n",
              "\n",
              "    <script>\n",
              "      const buttonEl =\n",
              "        document.querySelector('#df-df7c5219-871e-4a41-a4f0-2354d2f42d03 button.colab-df-convert');\n",
              "      buttonEl.style.display =\n",
              "        google.colab.kernel.accessAllowed ? 'block' : 'none';\n",
              "\n",
              "      async function convertToInteractive(key) {\n",
              "        const element = document.querySelector('#df-df7c5219-871e-4a41-a4f0-2354d2f42d03');\n",
              "        const dataTable =\n",
              "          await google.colab.kernel.invokeFunction('convertToInteractive',\n",
              "                                                    [key], {});\n",
              "        if (!dataTable) return;\n",
              "\n",
              "        const docLinkHtml = 'Like what you see? Visit the ' +\n",
              "          '<a target=\"_blank\" href=https://colab.research.google.com/notebooks/data_table.ipynb>data table notebook</a>'\n",
              "          + ' to learn more about interactive tables.';\n",
              "        element.innerHTML = '';\n",
              "        dataTable['output_type'] = 'display_data';\n",
              "        await google.colab.output.renderOutput(dataTable, element);\n",
              "        const docLink = document.createElement('div');\n",
              "        docLink.innerHTML = docLinkHtml;\n",
              "        element.appendChild(docLink);\n",
              "      }\n",
              "    </script>\n",
              "  </div>\n",
              "\n",
              "\n",
              "<div id=\"df-c6ce6c84-2117-4f94-b995-f38b11557316\">\n",
              "  <button class=\"colab-df-quickchart\" onclick=\"quickchart('df-c6ce6c84-2117-4f94-b995-f38b11557316')\"\n",
              "            title=\"Suggest charts\"\n",
              "            style=\"display:none;\">\n",
              "\n",
              "<svg xmlns=\"http://www.w3.org/2000/svg\" height=\"24px\"viewBox=\"0 0 24 24\"\n",
              "     width=\"24px\">\n",
              "    <g>\n",
              "        <path d=\"M19 3H5c-1.1 0-2 .9-2 2v14c0 1.1.9 2 2 2h14c1.1 0 2-.9 2-2V5c0-1.1-.9-2-2-2zM9 17H7v-7h2v7zm4 0h-2V7h2v10zm4 0h-2v-4h2v4z\"/>\n",
              "    </g>\n",
              "</svg>\n",
              "  </button>\n",
              "\n",
              "<style>\n",
              "  .colab-df-quickchart {\n",
              "      --bg-color: #E8F0FE;\n",
              "      --fill-color: #1967D2;\n",
              "      --hover-bg-color: #E2EBFA;\n",
              "      --hover-fill-color: #174EA6;\n",
              "      --disabled-fill-color: #AAA;\n",
              "      --disabled-bg-color: #DDD;\n",
              "  }\n",
              "\n",
              "  [theme=dark] .colab-df-quickchart {\n",
              "      --bg-color: #3B4455;\n",
              "      --fill-color: #D2E3FC;\n",
              "      --hover-bg-color: #434B5C;\n",
              "      --hover-fill-color: #FFFFFF;\n",
              "      --disabled-bg-color: #3B4455;\n",
              "      --disabled-fill-color: #666;\n",
              "  }\n",
              "\n",
              "  .colab-df-quickchart {\n",
              "    background-color: var(--bg-color);\n",
              "    border: none;\n",
              "    border-radius: 50%;\n",
              "    cursor: pointer;\n",
              "    display: none;\n",
              "    fill: var(--fill-color);\n",
              "    height: 32px;\n",
              "    padding: 0;\n",
              "    width: 32px;\n",
              "  }\n",
              "\n",
              "  .colab-df-quickchart:hover {\n",
              "    background-color: var(--hover-bg-color);\n",
              "    box-shadow: 0 1px 2px rgba(60, 64, 67, 0.3), 0 1px 3px 1px rgba(60, 64, 67, 0.15);\n",
              "    fill: var(--button-hover-fill-color);\n",
              "  }\n",
              "\n",
              "  .colab-df-quickchart-complete:disabled,\n",
              "  .colab-df-quickchart-complete:disabled:hover {\n",
              "    background-color: var(--disabled-bg-color);\n",
              "    fill: var(--disabled-fill-color);\n",
              "    box-shadow: none;\n",
              "  }\n",
              "\n",
              "  .colab-df-spinner {\n",
              "    border: 2px solid var(--fill-color);\n",
              "    border-color: transparent;\n",
              "    border-bottom-color: var(--fill-color);\n",
              "    animation:\n",
              "      spin 1s steps(1) infinite;\n",
              "  }\n",
              "\n",
              "  @keyframes spin {\n",
              "    0% {\n",
              "      border-color: transparent;\n",
              "      border-bottom-color: var(--fill-color);\n",
              "      border-left-color: var(--fill-color);\n",
              "    }\n",
              "    20% {\n",
              "      border-color: transparent;\n",
              "      border-left-color: var(--fill-color);\n",
              "      border-top-color: var(--fill-color);\n",
              "    }\n",
              "    30% {\n",
              "      border-color: transparent;\n",
              "      border-left-color: var(--fill-color);\n",
              "      border-top-color: var(--fill-color);\n",
              "      border-right-color: var(--fill-color);\n",
              "    }\n",
              "    40% {\n",
              "      border-color: transparent;\n",
              "      border-right-color: var(--fill-color);\n",
              "      border-top-color: var(--fill-color);\n",
              "    }\n",
              "    60% {\n",
              "      border-color: transparent;\n",
              "      border-right-color: var(--fill-color);\n",
              "    }\n",
              "    80% {\n",
              "      border-color: transparent;\n",
              "      border-right-color: var(--fill-color);\n",
              "      border-bottom-color: var(--fill-color);\n",
              "    }\n",
              "    90% {\n",
              "      border-color: transparent;\n",
              "      border-bottom-color: var(--fill-color);\n",
              "    }\n",
              "  }\n",
              "</style>\n",
              "\n",
              "  <script>\n",
              "    async function quickchart(key) {\n",
              "      const quickchartButtonEl =\n",
              "        document.querySelector('#' + key + ' button');\n",
              "      quickchartButtonEl.disabled = true;  // To prevent multiple clicks.\n",
              "      quickchartButtonEl.classList.add('colab-df-spinner');\n",
              "      try {\n",
              "        const charts = await google.colab.kernel.invokeFunction(\n",
              "            'suggestCharts', [key], {});\n",
              "      } catch (error) {\n",
              "        console.error('Error during call to suggestCharts:', error);\n",
              "      }\n",
              "      quickchartButtonEl.classList.remove('colab-df-spinner');\n",
              "      quickchartButtonEl.classList.add('colab-df-quickchart-complete');\n",
              "    }\n",
              "    (() => {\n",
              "      let quickchartButtonEl =\n",
              "        document.querySelector('#df-c6ce6c84-2117-4f94-b995-f38b11557316 button');\n",
              "      quickchartButtonEl.style.display =\n",
              "        google.colab.kernel.accessAllowed ? 'block' : 'none';\n",
              "    })();\n",
              "  </script>\n",
              "</div>\n",
              "\n",
              "    </div>\n",
              "  </div>\n"
            ],
            "application/vnd.google.colaboratory.intrinsic+json": {
              "type": "dataframe",
              "variable_name": "temp",
              "repr_error": "0"
            }
          },
          "metadata": {},
          "execution_count": 14
        }
      ]
    },
    {
      "metadata": {
        "trusted": false,
        "_uuid": "e0f46e20076603ab1ba8e3317b0da1d4be485175",
        "id": "cVHwM5nFJIIY",
        "colab": {
          "base_uri": "https://localhost:8080/"
        },
        "outputId": "96bcd70d-1330-4328-b946-28ff7ffc88e9"
      },
      "cell_type": "code",
      "source": [
        "print(dataset['cnt'][667], dataset['cnt'][668])"
      ],
      "execution_count": 15,
      "outputs": [
        {
          "output_type": "stream",
          "name": "stdout",
          "text": [
            "22 1096\n"
          ]
        }
      ]
    },
    {
      "metadata": {
        "trusted": false,
        "_uuid": "0922e95dc5cf0dca622067a3f55328b6a21dd3ad",
        "id": "Y6l9lnvfJIIY",
        "colab": {
          "base_uri": "https://localhost:8080/"
        },
        "outputId": "92ba6f80-3c5a-457b-e046-926305f369e6"
      },
      "cell_type": "code",
      "source": [
        "dataset['cnt'][667] = 6414\n",
        "dataset['cnt'][668] = 6414"
      ],
      "execution_count": 16,
      "outputs": [
        {
          "output_type": "stream",
          "name": "stderr",
          "text": [
            "<ipython-input-16-27810ac100d6>:1: SettingWithCopyWarning: \n",
            "A value is trying to be set on a copy of a slice from a DataFrame\n",
            "\n",
            "See the caveats in the documentation: https://pandas.pydata.org/pandas-docs/stable/user_guide/indexing.html#returning-a-view-versus-a-copy\n",
            "  dataset['cnt'][667] = 6414\n",
            "<ipython-input-16-27810ac100d6>:2: SettingWithCopyWarning: \n",
            "A value is trying to be set on a copy of a slice from a DataFrame\n",
            "\n",
            "See the caveats in the documentation: https://pandas.pydata.org/pandas-docs/stable/user_guide/indexing.html#returning-a-view-versus-a-copy\n",
            "  dataset['cnt'][668] = 6414\n"
          ]
        }
      ]
    },
    {
      "metadata": {
        "_uuid": "f6865665f4705631e87ae7f61013e76cfa5618b5",
        "id": "OIDh-8FkJIIY"
      },
      "cell_type": "markdown",
      "source": [
        "#### One Hot Encoding"
      ]
    },
    {
      "metadata": {
        "_uuid": "ab74a72f86a34cab442dbc41132436b1e6b90b2e",
        "id": "Y69hm_aNJIIZ"
      },
      "cell_type": "markdown",
      "source": [
        "We should apply one hot encoding for categorical features. In our case weekday, weathersit and mnth features are one hot encoded."
      ]
    },
    {
      "metadata": {
        "trusted": false,
        "_uuid": "434ac5b9b8a6849cc5df68f07ca3e0da61e4036f",
        "id": "UYmqLdF0JIIZ"
      },
      "cell_type": "code",
      "source": [
        "one_hot = pd.get_dummies(dataset['weekday'], prefix='weekday')\n",
        "dataset = dataset.join(one_hot)"
      ],
      "execution_count": 17,
      "outputs": []
    },
    {
      "metadata": {
        "trusted": false,
        "_uuid": "cf663e3b9490bc2d925aef210bcf5acc400687de",
        "id": "J2cJ1HTJJIIZ"
      },
      "cell_type": "code",
      "source": [
        "one_hot = pd.get_dummies(dataset['weathersit'], prefix='weathersit')\n",
        "dataset = dataset.join(one_hot)"
      ],
      "execution_count": 18,
      "outputs": []
    },
    {
      "metadata": {
        "trusted": false,
        "_uuid": "7a96439d61fe35163693e291de2202e06f61a46c",
        "id": "P92V6scUJIIZ"
      },
      "cell_type": "code",
      "source": [
        "one_hot = pd.get_dummies(dataset['mnth'], prefix='mnth')\n",
        "dataset = dataset.join(one_hot)"
      ],
      "execution_count": 19,
      "outputs": []
    },
    {
      "metadata": {
        "_uuid": "27025f6ca4c9ab2f9738323cbe08c41b67f9c871",
        "id": "Amyi3s00JIIa"
      },
      "cell_type": "markdown",
      "source": [
        "#### Scaling"
      ]
    },
    {
      "metadata": {
        "_uuid": "d23ea373d0c70824c10380c6f5cb3aede0edcaf5",
        "id": "__q-txIaJIIa"
      },
      "cell_type": "markdown",
      "source": [
        "Thanks to the guys prepared the original data, they scaled all features. That is why we have to apply it only for our value Y which is cnt. It is also a discussion whether Y value should be scaled or not in sucha model but we did."
      ]
    },
    {
      "metadata": {
        "trusted": false,
        "_uuid": "0372603e8475d8366c399f3b3a40cd3571d4f0d3",
        "id": "SQYR9tHcJIIa"
      },
      "cell_type": "code",
      "source": [
        "scaler = MinMaxScaler(feature_range=(0, 1))\n",
        "scaled = scaler.fit_transform(array(dataset['cnt']).reshape(len(dataset['cnt']), 1))\n",
        "series = pd.DataFrame(scaled)\n",
        "series.columns = ['cntscl']"
      ],
      "execution_count": 20,
      "outputs": []
    },
    {
      "metadata": {
        "trusted": false,
        "_uuid": "3e1f16c2c58cd8a25ed1f76838627451fc2fbde0",
        "id": "45BGI32uJIIa"
      },
      "cell_type": "code",
      "source": [
        "dataset = pd.merge(dataset, series, left_index=True, right_index=True)"
      ],
      "execution_count": 21,
      "outputs": []
    },
    {
      "metadata": {
        "trusted": false,
        "_uuid": "7996a95f6cee9e898a899c212802f160fe31b517",
        "id": "NQdr5ZYgJIIb",
        "colab": {
          "base_uri": "https://localhost:8080/",
          "height": 342
        },
        "outputId": "d2283a71-e40a-4315-ef00-a177367fa84e"
      },
      "cell_type": "code",
      "source": [
        "dataset.head()"
      ],
      "execution_count": 22,
      "outputs": [
        {
          "output_type": "execute_result",
          "data": {
            "text/plain": [
              "   instant      dteday  season  yr  mnth  holiday  weekday  workingday  \\\n",
              "0        1  2011-01-01       1   0     1        0        6           0   \n",
              "1        2  2011-01-02       1   0     1        0        0           0   \n",
              "2        3  2011-01-03       1   0     1        0        1           1   \n",
              "3        4  2011-01-04       1   0     1        0        2           1   \n",
              "4        5  2011-01-05       1   0     1        0        3           1   \n",
              "\n",
              "   weathersit      temp  ...  mnth_4  mnth_5  mnth_6  mnth_7  mnth_8  mnth_9  \\\n",
              "0           2  0.344167  ...   False   False   False   False   False   False   \n",
              "1           2  0.363478  ...   False   False   False   False   False   False   \n",
              "2           1  0.196364  ...   False   False   False   False   False   False   \n",
              "3           1  0.200000  ...   False   False   False   False   False   False   \n",
              "4           1  0.226957  ...   False   False   False   False   False   False   \n",
              "\n",
              "   mnth_10  mnth_11  mnth_12    cntscl  \n",
              "0    False    False    False  0.066884  \n",
              "1    False    False    False  0.044670  \n",
              "2    False    False    False  0.110829  \n",
              "3    False    False    False  0.136545  \n",
              "4    False    False    False  0.141132  \n",
              "\n",
              "[5 rows x 39 columns]"
            ],
            "text/html": [
              "\n",
              "  <div id=\"df-5fb9bd55-3a16-4db4-bd57-8478cd5fce1c\" class=\"colab-df-container\">\n",
              "    <div>\n",
              "<style scoped>\n",
              "    .dataframe tbody tr th:only-of-type {\n",
              "        vertical-align: middle;\n",
              "    }\n",
              "\n",
              "    .dataframe tbody tr th {\n",
              "        vertical-align: top;\n",
              "    }\n",
              "\n",
              "    .dataframe thead th {\n",
              "        text-align: right;\n",
              "    }\n",
              "</style>\n",
              "<table border=\"1\" class=\"dataframe\">\n",
              "  <thead>\n",
              "    <tr style=\"text-align: right;\">\n",
              "      <th></th>\n",
              "      <th>instant</th>\n",
              "      <th>dteday</th>\n",
              "      <th>season</th>\n",
              "      <th>yr</th>\n",
              "      <th>mnth</th>\n",
              "      <th>holiday</th>\n",
              "      <th>weekday</th>\n",
              "      <th>workingday</th>\n",
              "      <th>weathersit</th>\n",
              "      <th>temp</th>\n",
              "      <th>...</th>\n",
              "      <th>mnth_4</th>\n",
              "      <th>mnth_5</th>\n",
              "      <th>mnth_6</th>\n",
              "      <th>mnth_7</th>\n",
              "      <th>mnth_8</th>\n",
              "      <th>mnth_9</th>\n",
              "      <th>mnth_10</th>\n",
              "      <th>mnth_11</th>\n",
              "      <th>mnth_12</th>\n",
              "      <th>cntscl</th>\n",
              "    </tr>\n",
              "  </thead>\n",
              "  <tbody>\n",
              "    <tr>\n",
              "      <th>0</th>\n",
              "      <td>1</td>\n",
              "      <td>2011-01-01</td>\n",
              "      <td>1</td>\n",
              "      <td>0</td>\n",
              "      <td>1</td>\n",
              "      <td>0</td>\n",
              "      <td>6</td>\n",
              "      <td>0</td>\n",
              "      <td>2</td>\n",
              "      <td>0.344167</td>\n",
              "      <td>...</td>\n",
              "      <td>False</td>\n",
              "      <td>False</td>\n",
              "      <td>False</td>\n",
              "      <td>False</td>\n",
              "      <td>False</td>\n",
              "      <td>False</td>\n",
              "      <td>False</td>\n",
              "      <td>False</td>\n",
              "      <td>False</td>\n",
              "      <td>0.066884</td>\n",
              "    </tr>\n",
              "    <tr>\n",
              "      <th>1</th>\n",
              "      <td>2</td>\n",
              "      <td>2011-01-02</td>\n",
              "      <td>1</td>\n",
              "      <td>0</td>\n",
              "      <td>1</td>\n",
              "      <td>0</td>\n",
              "      <td>0</td>\n",
              "      <td>0</td>\n",
              "      <td>2</td>\n",
              "      <td>0.363478</td>\n",
              "      <td>...</td>\n",
              "      <td>False</td>\n",
              "      <td>False</td>\n",
              "      <td>False</td>\n",
              "      <td>False</td>\n",
              "      <td>False</td>\n",
              "      <td>False</td>\n",
              "      <td>False</td>\n",
              "      <td>False</td>\n",
              "      <td>False</td>\n",
              "      <td>0.044670</td>\n",
              "    </tr>\n",
              "    <tr>\n",
              "      <th>2</th>\n",
              "      <td>3</td>\n",
              "      <td>2011-01-03</td>\n",
              "      <td>1</td>\n",
              "      <td>0</td>\n",
              "      <td>1</td>\n",
              "      <td>0</td>\n",
              "      <td>1</td>\n",
              "      <td>1</td>\n",
              "      <td>1</td>\n",
              "      <td>0.196364</td>\n",
              "      <td>...</td>\n",
              "      <td>False</td>\n",
              "      <td>False</td>\n",
              "      <td>False</td>\n",
              "      <td>False</td>\n",
              "      <td>False</td>\n",
              "      <td>False</td>\n",
              "      <td>False</td>\n",
              "      <td>False</td>\n",
              "      <td>False</td>\n",
              "      <td>0.110829</td>\n",
              "    </tr>\n",
              "    <tr>\n",
              "      <th>3</th>\n",
              "      <td>4</td>\n",
              "      <td>2011-01-04</td>\n",
              "      <td>1</td>\n",
              "      <td>0</td>\n",
              "      <td>1</td>\n",
              "      <td>0</td>\n",
              "      <td>2</td>\n",
              "      <td>1</td>\n",
              "      <td>1</td>\n",
              "      <td>0.200000</td>\n",
              "      <td>...</td>\n",
              "      <td>False</td>\n",
              "      <td>False</td>\n",
              "      <td>False</td>\n",
              "      <td>False</td>\n",
              "      <td>False</td>\n",
              "      <td>False</td>\n",
              "      <td>False</td>\n",
              "      <td>False</td>\n",
              "      <td>False</td>\n",
              "      <td>0.136545</td>\n",
              "    </tr>\n",
              "    <tr>\n",
              "      <th>4</th>\n",
              "      <td>5</td>\n",
              "      <td>2011-01-05</td>\n",
              "      <td>1</td>\n",
              "      <td>0</td>\n",
              "      <td>1</td>\n",
              "      <td>0</td>\n",
              "      <td>3</td>\n",
              "      <td>1</td>\n",
              "      <td>1</td>\n",
              "      <td>0.226957</td>\n",
              "      <td>...</td>\n",
              "      <td>False</td>\n",
              "      <td>False</td>\n",
              "      <td>False</td>\n",
              "      <td>False</td>\n",
              "      <td>False</td>\n",
              "      <td>False</td>\n",
              "      <td>False</td>\n",
              "      <td>False</td>\n",
              "      <td>False</td>\n",
              "      <td>0.141132</td>\n",
              "    </tr>\n",
              "  </tbody>\n",
              "</table>\n",
              "<p>5 rows × 39 columns</p>\n",
              "</div>\n",
              "    <div class=\"colab-df-buttons\">\n",
              "\n",
              "  <div class=\"colab-df-container\">\n",
              "    <button class=\"colab-df-convert\" onclick=\"convertToInteractive('df-5fb9bd55-3a16-4db4-bd57-8478cd5fce1c')\"\n",
              "            title=\"Convert this dataframe to an interactive table.\"\n",
              "            style=\"display:none;\">\n",
              "\n",
              "  <svg xmlns=\"http://www.w3.org/2000/svg\" height=\"24px\" viewBox=\"0 -960 960 960\">\n",
              "    <path d=\"M120-120v-720h720v720H120Zm60-500h600v-160H180v160Zm220 220h160v-160H400v160Zm0 220h160v-160H400v160ZM180-400h160v-160H180v160Zm440 0h160v-160H620v160ZM180-180h160v-160H180v160Zm440 0h160v-160H620v160Z\"/>\n",
              "  </svg>\n",
              "    </button>\n",
              "\n",
              "  <style>\n",
              "    .colab-df-container {\n",
              "      display:flex;\n",
              "      gap: 12px;\n",
              "    }\n",
              "\n",
              "    .colab-df-convert {\n",
              "      background-color: #E8F0FE;\n",
              "      border: none;\n",
              "      border-radius: 50%;\n",
              "      cursor: pointer;\n",
              "      display: none;\n",
              "      fill: #1967D2;\n",
              "      height: 32px;\n",
              "      padding: 0 0 0 0;\n",
              "      width: 32px;\n",
              "    }\n",
              "\n",
              "    .colab-df-convert:hover {\n",
              "      background-color: #E2EBFA;\n",
              "      box-shadow: 0px 1px 2px rgba(60, 64, 67, 0.3), 0px 1px 3px 1px rgba(60, 64, 67, 0.15);\n",
              "      fill: #174EA6;\n",
              "    }\n",
              "\n",
              "    .colab-df-buttons div {\n",
              "      margin-bottom: 4px;\n",
              "    }\n",
              "\n",
              "    [theme=dark] .colab-df-convert {\n",
              "      background-color: #3B4455;\n",
              "      fill: #D2E3FC;\n",
              "    }\n",
              "\n",
              "    [theme=dark] .colab-df-convert:hover {\n",
              "      background-color: #434B5C;\n",
              "      box-shadow: 0px 1px 3px 1px rgba(0, 0, 0, 0.15);\n",
              "      filter: drop-shadow(0px 1px 2px rgba(0, 0, 0, 0.3));\n",
              "      fill: #FFFFFF;\n",
              "    }\n",
              "  </style>\n",
              "\n",
              "    <script>\n",
              "      const buttonEl =\n",
              "        document.querySelector('#df-5fb9bd55-3a16-4db4-bd57-8478cd5fce1c button.colab-df-convert');\n",
              "      buttonEl.style.display =\n",
              "        google.colab.kernel.accessAllowed ? 'block' : 'none';\n",
              "\n",
              "      async function convertToInteractive(key) {\n",
              "        const element = document.querySelector('#df-5fb9bd55-3a16-4db4-bd57-8478cd5fce1c');\n",
              "        const dataTable =\n",
              "          await google.colab.kernel.invokeFunction('convertToInteractive',\n",
              "                                                    [key], {});\n",
              "        if (!dataTable) return;\n",
              "\n",
              "        const docLinkHtml = 'Like what you see? Visit the ' +\n",
              "          '<a target=\"_blank\" href=https://colab.research.google.com/notebooks/data_table.ipynb>data table notebook</a>'\n",
              "          + ' to learn more about interactive tables.';\n",
              "        element.innerHTML = '';\n",
              "        dataTable['output_type'] = 'display_data';\n",
              "        await google.colab.output.renderOutput(dataTable, element);\n",
              "        const docLink = document.createElement('div');\n",
              "        docLink.innerHTML = docLinkHtml;\n",
              "        element.appendChild(docLink);\n",
              "      }\n",
              "    </script>\n",
              "  </div>\n",
              "\n",
              "\n",
              "<div id=\"df-2e7af010-fe09-4ff0-a54f-71e45371c7c4\">\n",
              "  <button class=\"colab-df-quickchart\" onclick=\"quickchart('df-2e7af010-fe09-4ff0-a54f-71e45371c7c4')\"\n",
              "            title=\"Suggest charts\"\n",
              "            style=\"display:none;\">\n",
              "\n",
              "<svg xmlns=\"http://www.w3.org/2000/svg\" height=\"24px\"viewBox=\"0 0 24 24\"\n",
              "     width=\"24px\">\n",
              "    <g>\n",
              "        <path d=\"M19 3H5c-1.1 0-2 .9-2 2v14c0 1.1.9 2 2 2h14c1.1 0 2-.9 2-2V5c0-1.1-.9-2-2-2zM9 17H7v-7h2v7zm4 0h-2V7h2v10zm4 0h-2v-4h2v4z\"/>\n",
              "    </g>\n",
              "</svg>\n",
              "  </button>\n",
              "\n",
              "<style>\n",
              "  .colab-df-quickchart {\n",
              "      --bg-color: #E8F0FE;\n",
              "      --fill-color: #1967D2;\n",
              "      --hover-bg-color: #E2EBFA;\n",
              "      --hover-fill-color: #174EA6;\n",
              "      --disabled-fill-color: #AAA;\n",
              "      --disabled-bg-color: #DDD;\n",
              "  }\n",
              "\n",
              "  [theme=dark] .colab-df-quickchart {\n",
              "      --bg-color: #3B4455;\n",
              "      --fill-color: #D2E3FC;\n",
              "      --hover-bg-color: #434B5C;\n",
              "      --hover-fill-color: #FFFFFF;\n",
              "      --disabled-bg-color: #3B4455;\n",
              "      --disabled-fill-color: #666;\n",
              "  }\n",
              "\n",
              "  .colab-df-quickchart {\n",
              "    background-color: var(--bg-color);\n",
              "    border: none;\n",
              "    border-radius: 50%;\n",
              "    cursor: pointer;\n",
              "    display: none;\n",
              "    fill: var(--fill-color);\n",
              "    height: 32px;\n",
              "    padding: 0;\n",
              "    width: 32px;\n",
              "  }\n",
              "\n",
              "  .colab-df-quickchart:hover {\n",
              "    background-color: var(--hover-bg-color);\n",
              "    box-shadow: 0 1px 2px rgba(60, 64, 67, 0.3), 0 1px 3px 1px rgba(60, 64, 67, 0.15);\n",
              "    fill: var(--button-hover-fill-color);\n",
              "  }\n",
              "\n",
              "  .colab-df-quickchart-complete:disabled,\n",
              "  .colab-df-quickchart-complete:disabled:hover {\n",
              "    background-color: var(--disabled-bg-color);\n",
              "    fill: var(--disabled-fill-color);\n",
              "    box-shadow: none;\n",
              "  }\n",
              "\n",
              "  .colab-df-spinner {\n",
              "    border: 2px solid var(--fill-color);\n",
              "    border-color: transparent;\n",
              "    border-bottom-color: var(--fill-color);\n",
              "    animation:\n",
              "      spin 1s steps(1) infinite;\n",
              "  }\n",
              "\n",
              "  @keyframes spin {\n",
              "    0% {\n",
              "      border-color: transparent;\n",
              "      border-bottom-color: var(--fill-color);\n",
              "      border-left-color: var(--fill-color);\n",
              "    }\n",
              "    20% {\n",
              "      border-color: transparent;\n",
              "      border-left-color: var(--fill-color);\n",
              "      border-top-color: var(--fill-color);\n",
              "    }\n",
              "    30% {\n",
              "      border-color: transparent;\n",
              "      border-left-color: var(--fill-color);\n",
              "      border-top-color: var(--fill-color);\n",
              "      border-right-color: var(--fill-color);\n",
              "    }\n",
              "    40% {\n",
              "      border-color: transparent;\n",
              "      border-right-color: var(--fill-color);\n",
              "      border-top-color: var(--fill-color);\n",
              "    }\n",
              "    60% {\n",
              "      border-color: transparent;\n",
              "      border-right-color: var(--fill-color);\n",
              "    }\n",
              "    80% {\n",
              "      border-color: transparent;\n",
              "      border-right-color: var(--fill-color);\n",
              "      border-bottom-color: var(--fill-color);\n",
              "    }\n",
              "    90% {\n",
              "      border-color: transparent;\n",
              "      border-bottom-color: var(--fill-color);\n",
              "    }\n",
              "  }\n",
              "</style>\n",
              "\n",
              "  <script>\n",
              "    async function quickchart(key) {\n",
              "      const quickchartButtonEl =\n",
              "        document.querySelector('#' + key + ' button');\n",
              "      quickchartButtonEl.disabled = true;  // To prevent multiple clicks.\n",
              "      quickchartButtonEl.classList.add('colab-df-spinner');\n",
              "      try {\n",
              "        const charts = await google.colab.kernel.invokeFunction(\n",
              "            'suggestCharts', [key], {});\n",
              "      } catch (error) {\n",
              "        console.error('Error during call to suggestCharts:', error);\n",
              "      }\n",
              "      quickchartButtonEl.classList.remove('colab-df-spinner');\n",
              "      quickchartButtonEl.classList.add('colab-df-quickchart-complete');\n",
              "    }\n",
              "    (() => {\n",
              "      let quickchartButtonEl =\n",
              "        document.querySelector('#df-2e7af010-fe09-4ff0-a54f-71e45371c7c4 button');\n",
              "      quickchartButtonEl.style.display =\n",
              "        google.colab.kernel.accessAllowed ? 'block' : 'none';\n",
              "    })();\n",
              "  </script>\n",
              "</div>\n",
              "\n",
              "    </div>\n",
              "  </div>\n"
            ],
            "application/vnd.google.colaboratory.intrinsic+json": {
              "type": "dataframe",
              "variable_name": "dataset"
            }
          },
          "metadata": {},
          "execution_count": 22
        }
      ]
    },
    {
      "metadata": {
        "_uuid": "6248c373d4ad2b4202ba28c5be969c5fd68f1b7d",
        "id": "PLdajcv8JIIb"
      },
      "cell_type": "markdown",
      "source": [
        "#### Data Splitting"
      ]
    },
    {
      "metadata": {
        "trusted": false,
        "_uuid": "b26a68dd5b2c3391c976f01900d23d674ccb67e9",
        "id": "XKnCQDnTJIIb",
        "colab": {
          "base_uri": "https://localhost:8080/"
        },
        "outputId": "a71bdd07-4373-4df7-e5d7-eb34f26992e3"
      },
      "cell_type": "code",
      "source": [
        "number_of_test_data = 50\n",
        "number_of_holdout_data = 50\n",
        "number_of_training_data = len(dataset) - number_of_holdout_data - number_of_test_data\n",
        "print (\"total, train, test, holdout:\", len(dataset), number_of_training_data, number_of_test_data, number_of_holdout_data)"
      ],
      "execution_count": 23,
      "outputs": [
        {
          "output_type": "stream",
          "name": "stdout",
          "text": [
            "total, train, test, holdout: 731 631 50 50\n"
          ]
        }
      ]
    },
    {
      "metadata": {
        "trusted": false,
        "_uuid": "d38f847d74af0b277dcd9c6c23b2dbdc6293d3d4",
        "id": "U5PRqL9dJIIb"
      },
      "cell_type": "code",
      "source": [
        "datatrain = dataset[:number_of_training_data]\n",
        "datatest = dataset[-(number_of_test_data+number_of_holdout_data):-number_of_holdout_data]\n",
        "datahold = dataset[-number_of_holdout_data:]"
      ],
      "execution_count": 24,
      "outputs": []
    },
    {
      "metadata": {
        "_uuid": "bc4bbdbb576af4e651d950aadbf090252013e80c",
        "id": "GnQw24uFJIIc"
      },
      "cell_type": "markdown",
      "source": [
        "### Preparing 3-Dimensional Input for Sequential Model"
      ]
    },
    {
      "metadata": {
        "_uuid": "a86183bc2d570aa888ecbc75a4d51ca8161de2e8",
        "id": "VQIf87AMJIIe"
      },
      "cell_type": "markdown",
      "source": [
        "The following steps show the way how to prepare input for a sequential model by using TimeSeriesGenerator."
      ]
    },
    {
      "metadata": {
        "trusted": false,
        "_uuid": "24d332da85fa576ee55b4b7cdb14079ddb3d00f5",
        "id": "LVu_Io2SJIIe"
      },
      "cell_type": "code",
      "source": [
        "in_seq1 = array(datatrain['holiday'])\n",
        "in_seq2 = array(datatrain['workingday'])\n",
        "in_seq3 = array(datatrain['temp'])\n",
        "in_seq4 = array(datatrain['atemp'])\n",
        "in_seq5 = array(datatrain['hum'])\n",
        "in_seq6 = array(datatrain['windspeed'])\n",
        "in_seq7 = array(datatrain['weekday_0'])\n",
        "in_seq8 = array(datatrain['weekday_1'])\n",
        "in_seq9 = array(datatrain['weekday_2'])\n",
        "in_seq10 = array(datatrain['weekday_3'])\n",
        "in_seq11 = array(datatrain['weekday_4'])\n",
        "in_seq12 = array(datatrain['weekday_5'])\n",
        "in_seq13 = array(datatrain['weekday_6'])\n",
        "in_seq14 = array(datatrain['weathersit_1'])\n",
        "in_seq15 = array(datatrain['weathersit_2'])\n",
        "in_seq16 = array(datatrain['weathersit_3'])\n",
        "out_seq_train = array(datatrain['cntscl'])"
      ],
      "execution_count": 25,
      "outputs": []
    },
    {
      "metadata": {
        "trusted": false,
        "_uuid": "55af59de520df66c802f035c450f9d616bfc8ed5",
        "id": "fHPb_myGJIIe"
      },
      "cell_type": "code",
      "source": [
        "in_seq1 = in_seq1.reshape((len(in_seq1), 1))\n",
        "in_seq2 = in_seq2.reshape((len(in_seq2), 1))\n",
        "in_seq3 = in_seq3.reshape((len(in_seq3), 1))\n",
        "in_seq4 = in_seq4.reshape((len(in_seq4), 1))\n",
        "in_seq5 = in_seq5.reshape((len(in_seq5), 1))\n",
        "in_seq6 = in_seq6.reshape((len(in_seq6), 1))\n",
        "in_seq7 = in_seq7.reshape((len(in_seq7), 1))\n",
        "in_seq8 = in_seq8.reshape((len(in_seq8), 1))\n",
        "in_seq9 = in_seq9.reshape((len(in_seq9), 1))\n",
        "in_seq10 = in_seq10.reshape((len(in_seq10), 1))\n",
        "in_seq11 = in_seq11.reshape((len(in_seq11), 1))\n",
        "in_seq12 = in_seq12.reshape((len(in_seq12), 1))\n",
        "in_seq13 = in_seq13.reshape((len(in_seq13), 1))\n",
        "in_seq14 = in_seq14.reshape((len(in_seq14), 1))\n",
        "in_seq15 = in_seq15.reshape((len(in_seq15), 1))\n",
        "in_seq16 = in_seq16.reshape((len(in_seq16), 1))\n",
        "out_seq_train = out_seq_train.reshape((len(out_seq_train), 1))"
      ],
      "execution_count": 26,
      "outputs": []
    },
    {
      "metadata": {
        "trusted": false,
        "_uuid": "5b7f936cceb1ba663f0511f6bbd2180f0e1d4e4f",
        "id": "FdeP9jvKJIIl"
      },
      "cell_type": "code",
      "source": [
        "datatrain_feed = hstack((in_seq1, in_seq2, in_seq3, in_seq4, in_seq5, in_seq6, in_seq7, in_seq8, in_seq9, in_seq10, in_seq11, in_seq12, in_seq13, in_seq14, in_seq15, in_seq16, out_seq_train))"
      ],
      "execution_count": 27,
      "outputs": []
    },
    {
      "metadata": {
        "trusted": false,
        "_uuid": "ad30a53fd64d15a5d9388a5c67d37cadf05d7d22",
        "id": "fIiHbLvEJIIl"
      },
      "cell_type": "code",
      "source": [
        "in_seq1 = array(datatest['holiday'])\n",
        "in_seq2 = array(datatest['workingday'])\n",
        "in_seq3 = array(datatest['temp'])\n",
        "in_seq4 = array(datatest['atemp'])\n",
        "in_seq5 = array(datatest['hum'])\n",
        "in_seq6 = array(datatest['windspeed'])\n",
        "in_seq7 = array(datatest['weekday_0'])\n",
        "in_seq8 = array(datatest['weekday_1'])\n",
        "in_seq9 = array(datatest['weekday_2'])\n",
        "in_seq10 = array(datatest['weekday_3'])\n",
        "in_seq11 = array(datatest['weekday_4'])\n",
        "in_seq12 = array(datatest['weekday_5'])\n",
        "in_seq13 = array(datatest['weekday_6'])\n",
        "in_seq14 = array(datatest['weathersit_1'])\n",
        "in_seq15 = array(datatest['weathersit_2'])\n",
        "in_seq16 = array(datatest['weathersit_3'])\n",
        "out_seq_test = array(datatest['cntscl'])"
      ],
      "execution_count": 28,
      "outputs": []
    },
    {
      "metadata": {
        "trusted": false,
        "_uuid": "88a7e00138d5a05cb0084d6a70d409a3c31d9b23",
        "id": "y_lzTPK_JIIl"
      },
      "cell_type": "code",
      "source": [
        "in_seq1 = in_seq1.reshape((len(in_seq1), 1))\n",
        "in_seq2 = in_seq2.reshape((len(in_seq2), 1))\n",
        "in_seq3 = in_seq3.reshape((len(in_seq3), 1))\n",
        "in_seq4 = in_seq4.reshape((len(in_seq4), 1))\n",
        "in_seq5 = in_seq5.reshape((len(in_seq5), 1))\n",
        "in_seq6 = in_seq6.reshape((len(in_seq6), 1))\n",
        "in_seq7 = in_seq7.reshape((len(in_seq7), 1))\n",
        "in_seq8 = in_seq8.reshape((len(in_seq8), 1))\n",
        "in_seq9 = in_seq9.reshape((len(in_seq9), 1))\n",
        "in_seq10 = in_seq10.reshape((len(in_seq10), 1))\n",
        "in_seq11 = in_seq11.reshape((len(in_seq11), 1))\n",
        "in_seq12 = in_seq12.reshape((len(in_seq12), 1))\n",
        "in_seq13 = in_seq13.reshape((len(in_seq13), 1))\n",
        "in_seq14 = in_seq14.reshape((len(in_seq14), 1))\n",
        "in_seq15 = in_seq15.reshape((len(in_seq15), 1))\n",
        "in_seq16 = in_seq16.reshape((len(in_seq16), 1))\n",
        "out_seq_test = out_seq_test.reshape((len(out_seq_test), 1))"
      ],
      "execution_count": 29,
      "outputs": []
    },
    {
      "metadata": {
        "trusted": false,
        "_uuid": "b1ebc1f21f474a48ca6b23756c5081e5b6a2b8f0",
        "id": "PatMBmC9JIIm"
      },
      "cell_type": "code",
      "source": [
        "datatest_feed = hstack((in_seq1, in_seq2, in_seq3, in_seq4, in_seq5, in_seq6, in_seq7, in_seq8, in_seq9, in_seq10, in_seq11, in_seq12, in_seq13, in_seq14, in_seq15, in_seq16, out_seq_test))"
      ],
      "execution_count": 30,
      "outputs": []
    },
    {
      "metadata": {
        "trusted": false,
        "_uuid": "3a5c6bfcbef050aee027e21037f1eacae78b8774",
        "id": "0PpqDwyTJIIm"
      },
      "cell_type": "code",
      "source": [
        "in_seq1 = array(datahold['holiday'])\n",
        "in_seq2 = array(datahold['workingday'])\n",
        "in_seq3 = array(datahold['temp'])\n",
        "in_seq4 = array(datahold['atemp'])\n",
        "in_seq5 = array(datahold['hum'])\n",
        "in_seq6 = array(datahold['windspeed'])\n",
        "in_seq7 = array(datahold['weekday_0'])\n",
        "in_seq8 = array(datahold['weekday_1'])\n",
        "in_seq9 = array(datahold['weekday_2'])\n",
        "in_seq10 = array(datahold['weekday_3'])\n",
        "in_seq11 = array(datahold['weekday_4'])\n",
        "in_seq12 = array(datahold['weekday_5'])\n",
        "in_seq13 = array(datahold['weekday_6'])\n",
        "in_seq14 = array(datahold['weathersit_1'])\n",
        "in_seq15 = array(datahold['weathersit_2'])\n",
        "in_seq16 = array(datahold['weathersit_3'])\n",
        "out_seq_hold = array(datahold['cntscl'])"
      ],
      "execution_count": 31,
      "outputs": []
    },
    {
      "metadata": {
        "trusted": false,
        "_uuid": "1b63bdb335a7f4ada3d0c50b887dad543e241254",
        "id": "rQF06c5eJIIn"
      },
      "cell_type": "code",
      "source": [
        "in_seq1 = in_seq1.reshape((len(in_seq1), 1))\n",
        "in_seq2 = in_seq2.reshape((len(in_seq2), 1))\n",
        "in_seq3 = in_seq3.reshape((len(in_seq3), 1))\n",
        "in_seq4 = in_seq4.reshape((len(in_seq4), 1))\n",
        "in_seq5 = in_seq5.reshape((len(in_seq5), 1))\n",
        "in_seq6 = in_seq6.reshape((len(in_seq6), 1))\n",
        "in_seq7 = in_seq7.reshape((len(in_seq7), 1))\n",
        "in_seq8 = in_seq8.reshape((len(in_seq8), 1))\n",
        "in_seq9 = in_seq9.reshape((len(in_seq9), 1))\n",
        "in_seq10 = in_seq10.reshape((len(in_seq10), 1))\n",
        "in_seq11 = in_seq11.reshape((len(in_seq11), 1))\n",
        "in_seq12 = in_seq12.reshape((len(in_seq12), 1))\n",
        "in_seq13 = in_seq13.reshape((len(in_seq13), 1))\n",
        "in_seq14 = in_seq14.reshape((len(in_seq14), 1))\n",
        "in_seq15 = in_seq15.reshape((len(in_seq15), 1))\n",
        "in_seq16 = in_seq16.reshape((len(in_seq16), 1))\n",
        "out_seq_hold = out_seq_hold.reshape((len(out_seq_hold), 1))"
      ],
      "execution_count": 32,
      "outputs": []
    },
    {
      "metadata": {
        "trusted": false,
        "_uuid": "38500675070c438b0161647bd71da971df8d4fb4",
        "id": "-qH6B0B1JIIn"
      },
      "cell_type": "code",
      "source": [
        "datahold_feed = hstack((in_seq1, in_seq2, in_seq3, in_seq4, in_seq5, in_seq6, in_seq7, in_seq8, in_seq9, in_seq10, in_seq11, in_seq12, in_seq13, in_seq14, in_seq15, in_seq16, out_seq_hold))"
      ],
      "execution_count": 33,
      "outputs": []
    },
    {
      "metadata": {
        "trusted": false,
        "_uuid": "71da56302e0272e260bae57224472fd0882e0209",
        "id": "7qAkfmAmJIIo"
      },
      "cell_type": "code",
      "source": [
        "n_features = datatrain_feed.shape[1]\n",
        "n_input = 10\n",
        "generator_train = TimeseriesGenerator(datatrain_feed, out_seq_train, length=n_input, batch_size=len(datatrain_feed))"
      ],
      "execution_count": 34,
      "outputs": []
    },
    {
      "metadata": {
        "trusted": false,
        "_uuid": "02972a478f3cce602ff0db90285fa8191b6bba50",
        "id": "w54Fsl43JIIo"
      },
      "cell_type": "code",
      "source": [
        "generator_test = TimeseriesGenerator(datatest_feed, out_seq_test, length=n_input, batch_size=1)"
      ],
      "execution_count": 35,
      "outputs": []
    },
    {
      "metadata": {
        "trusted": false,
        "_uuid": "37f15016c178dfa4611bb40fe8c89ccde34e7899",
        "id": "MYx551hdJIIo"
      },
      "cell_type": "code",
      "source": [
        "generator_hold = TimeseriesGenerator(datahold_feed, out_seq_hold, length=n_input, batch_size=1)"
      ],
      "execution_count": 36,
      "outputs": []
    },
    {
      "metadata": {
        "_uuid": "1ca4ecec059c398cc62daa30ebb729ac4d0c9e47",
        "id": "9ZJTMlhLJIIo"
      },
      "cell_type": "markdown",
      "source": [
        "### Modelling and Training"
      ]
    },
    {
      "metadata": {
        "_uuid": "c9226244b1be2ee3a980d93b885171429f131f25",
        "id": "v7wGnaIBJIIp"
      },
      "cell_type": "markdown",
      "source": [
        "We have created a small RNN with 4 nodes.\n",
        "Number of total parameters in the model is 93.\n",
        "Number of timesteps in one batch is 10.\n",
        "Activation function is relu both for RNN and Output layer.\n",
        "Optimizer is adam.\n",
        "Loss function is mean squared error.\n",
        "Learning rate is 0.0001.\n",
        "Number of epocs is 3,000."
      ]
    },
    {
      "metadata": {
        "_uuid": "aaa1ec4a637d3bd50bf37e9745df90cfa49e9b07",
        "id": "G2f8_50fJIIp"
      },
      "cell_type": "markdown",
      "source": [
        "#### Creating the SimpleRNN Model"
      ]
    },
    {
      "metadata": {
        "trusted": false,
        "_uuid": "1b784a7f7b25c221d4f92f5fdc8386ab4fc7634a",
        "id": "oisx2KQ_JIIp",
        "colab": {
          "base_uri": "https://localhost:8080/"
        },
        "outputId": "c5678dbb-a820-40fa-a2b2-3edf70189874"
      },
      "cell_type": "code",
      "source": [
        "print(\"timesteps, features:\", n_input, n_features)"
      ],
      "execution_count": 37,
      "outputs": [
        {
          "output_type": "stream",
          "name": "stdout",
          "text": [
            "timesteps, features: 10 17\n"
          ]
        }
      ]
    },
    {
      "metadata": {
        "trusted": false,
        "_uuid": "5362215c4cab23b2dbf82c7c2958c37d754d9e50",
        "id": "_Og5yKe_JIIp",
        "colab": {
          "base_uri": "https://localhost:8080/"
        },
        "outputId": "a9da3c29-b3df-408f-8210-edbc5825a59c"
      },
      "cell_type": "code",
      "source": [
        "model = Sequential()\n",
        "\n",
        "model.add(SimpleRNN(4, activation='relu', input_shape=(n_input, n_features), return_sequences = False))\n",
        "model.add(Dense(1, activation='relu'))\n",
        "\n",
        "adam = Adam(lr=0.0001)\n",
        "model.compile(optimizer=adam, loss='mse')"
      ],
      "execution_count": 38,
      "outputs": [
        {
          "output_type": "stream",
          "name": "stderr",
          "text": [
            "WARNING:absl:`lr` is deprecated in Keras optimizer, please use `learning_rate` or use the legacy optimizer, e.g.,tf.keras.optimizers.legacy.Adam.\n"
          ]
        }
      ]
    },
    {
      "metadata": {
        "trusted": false,
        "_uuid": "4063d400d861633809a1d564af2b0b03093e0691",
        "id": "4zsKf6biJIIq",
        "colab": {
          "base_uri": "https://localhost:8080/"
        },
        "outputId": "98c941e8-6f83-43c4-dae6-b60d98dfbb8d"
      },
      "cell_type": "code",
      "source": [
        "model.summary()"
      ],
      "execution_count": 39,
      "outputs": [
        {
          "output_type": "stream",
          "name": "stdout",
          "text": [
            "Model: \"sequential\"\n",
            "_________________________________________________________________\n",
            " Layer (type)                Output Shape              Param #   \n",
            "=================================================================\n",
            " simple_rnn (SimpleRNN)      (None, 4)                 88        \n",
            "                                                                 \n",
            " dense (Dense)               (None, 1)                 5         \n",
            "                                                                 \n",
            "=================================================================\n",
            "Total params: 93 (372.00 Byte)\n",
            "Trainable params: 93 (372.00 Byte)\n",
            "Non-trainable params: 0 (0.00 Byte)\n",
            "_________________________________________________________________\n"
          ]
        }
      ]
    },
    {
      "metadata": {
        "_uuid": "500db08c963b5a67f10772aafb265c184fd42baf",
        "id": "9JglcBCQJIIq"
      },
      "cell_type": "markdown",
      "source": [
        "#### Training the Model"
      ]
    },
    {
      "metadata": {
        "trusted": false,
        "_uuid": "4a99b4d545e2e25f67709e85d9820724c4740df5",
        "id": "zA5O3MBBJIIq",
        "colab": {
          "base_uri": "https://localhost:8080/"
        },
        "outputId": "ee01c351-ba0a-4889-abca-43e4870b6ad3"
      },
      "cell_type": "code",
      "source": [
        "score = model.fit_generator(generator_train, epochs=3000, verbose=0, validation_data=generator_test)"
      ],
      "execution_count": 40,
      "outputs": [
        {
          "output_type": "stream",
          "name": "stderr",
          "text": [
            "<ipython-input-40-c3d0214c80a8>:1: UserWarning: `Model.fit_generator` is deprecated and will be removed in a future version. Please use `Model.fit`, which supports generators.\n",
            "  score = model.fit_generator(generator_train, epochs=3000, verbose=0, validation_data=generator_test)\n"
          ]
        }
      ]
    },
    {
      "metadata": {
        "_uuid": "f72bc05ec71c6e2ac3a1e0b1237f5faf32d1fe4c",
        "id": "QAj2sIIZJIIr"
      },
      "cell_type": "markdown",
      "source": [
        "#### Plot of Test Loss Functions"
      ]
    },
    {
      "cell_type": "markdown",
      "source": [
        "PREDICTION"
      ],
      "metadata": {
        "id": "j83bz1ofZABU"
      }
    },
    {
      "metadata": {
        "trusted": false,
        "_uuid": "29e630c8ba9471243a744e438de266385592a342",
        "id": "5DZ8igVuJIIr",
        "colab": {
          "base_uri": "https://localhost:8080/",
          "height": 445
        },
        "outputId": "a44951f7-6c12-4840-e1f5-560e24bc7912"
      },
      "cell_type": "code",
      "source": [
        "losses = score.history['loss']\n",
        "val_losses = score.history['val_loss']\n",
        "plt.figure(figsize=(10,5))\n",
        "plt.plot(losses, label=\"trainset\")\n",
        "plt.plot(val_losses, label=\"testset\")\n",
        "plt.legend(bbox_to_anchor=(1.05, 1), loc=2, borderaxespad=0.)\n",
        "plt.show()"
      ],
      "execution_count": 41,
      "outputs": [
        {
          "output_type": "display_data",
          "data": {
            "text/plain": [
              "<Figure size 1000x500 with 1 Axes>"
            ],
            "image/png": "[encoded data removed]"
          },
          "metadata": {}
        }
      ]
    }
  ],
  "metadata": {
    "kernelspec": {
      "display_name": "Python 3",
      "language": "python",
      "name": "python3"
    },
    "language_info": {
      "name": "python",
      "version": "3.6.6",
      "mimetype": "text/x-python",
      "codemirror_mode": {
        "name": "ipython",
        "version": 3
      },
      "pygments_lexer": "ipython3",
      "nbconvert_exporter": "python",
      "file_extension": ".py"
    },
    "colab": {
      "provenance": [],
      "include_colab_link": true
    }
  },
  "nbformat": 4,
  "nbformat_minor": 0
}